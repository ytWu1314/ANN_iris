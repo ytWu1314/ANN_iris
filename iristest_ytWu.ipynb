{
 "metadata": {
  "language_info": {
   "codemirror_mode": {
    "name": "ipython",
    "version": 3
   },
   "file_extension": ".py",
   "mimetype": "text/x-python",
   "name": "python",
   "nbconvert_exporter": "python",
   "pygments_lexer": "ipython3",
   "version": "3.7.6"
  },
  "orig_nbformat": 2,
  "kernelspec": {
   "name": "python3",
   "display_name": "Python 3.7.6 64-bit"
  },
  "metadata": {
   "interpreter": {
    "hash": "37d2d62d60b5fcf07915d76a0e76fc8623a41d8bea66f9e343623875b91770f8"
   }
  },
  "interpreter": {
   "hash": "37d2d62d60b5fcf07915d76a0e76fc8623a41d8bea66f9e343623875b91770f8"
  }
 },
 "nbformat": 4,
 "nbformat_minor": 2,
 "cells": [
  {
   "source": [
    "# 获取数据集\n"
   ],
   "cell_type": "markdown",
   "metadata": {}
  },
  {
   "source": [
    "### 导入所需模块"
   ],
   "cell_type": "markdown",
   "metadata": {}
  },
  {
   "cell_type": "code",
   "execution_count": 2,
   "metadata": {},
   "outputs": [],
   "source": [
    "#导入第三方库\n",
    "import pandas as pd\n",
    "import matplotlib.pyplot as plt\n",
    "from sklearn.datasets import load_iris\n",
    "from sklearn.model_selection import train_test_split\n",
    "import tensorflow as tf\n",
    "import numpy as np\n",
    "from sklearn.neighbors import KNeighborsClassifier\n",
    "from sklearn.preprocessing import StandardScaler"
   ]
  },
  {
   "source": [
    "### 获取数据"
   ],
   "cell_type": "markdown",
   "metadata": {}
  },
  {
   "cell_type": "code",
   "execution_count": null,
   "metadata": {},
   "outputs": [],
   "source": []
  },
  {
   "cell_type": "code",
   "execution_count": 3,
   "metadata": {},
   "outputs": [
    {
     "output_type": "stream",
     "name": "stdout",
     "text": [
      "鸢尾花数据集的返回值：\n {'data': array([[5.1, 3.5, 1.4, 0.2],\n       [4.9, 3. , 1.4, 0.2],\n       [4.7, 3.2, 1.3, 0.2],\n       [4.6, 3.1, 1.5, 0.2],\n       [5. , 3.6, 1.4, 0.2],\n       [5.4, 3.9, 1.7, 0.4],\n       [4.6, 3.4, 1.4, 0.3],\n       [5. , 3.4, 1.5, 0.2],\n       [4.4, 2.9, 1.4, 0.2],\n       [4.9, 3.1, 1.5, 0.1],\n       [5.4, 3.7, 1.5, 0.2],\n       [4.8, 3.4, 1.6, 0.2],\n       [4.8, 3. , 1.4, 0.1],\n       [4.3, 3. , 1.1, 0.1],\n       [5.8, 4. , 1.2, 0.2],\n       [5.7, 4.4, 1.5, 0.4],\n       [5.4, 3.9, 1.3, 0.4],\n       [5.1, 3.5, 1.4, 0.3],\n       [5.7, 3.8, 1.7, 0.3],\n       [5.1, 3.8, 1.5, 0.3],\n       [5.4, 3.4, 1.7, 0.2],\n       [5.1, 3.7, 1.5, 0.4],\n       [4.6, 3.6, 1. , 0.2],\n       [5.1, 3.3, 1.7, 0.5],\n       [4.8, 3.4, 1.9, 0.2],\n       [5. , 3. , 1.6, 0.2],\n       [5. , 3.4, 1.6, 0.4],\n       [5.2, 3.5, 1.5, 0.2],\n       [5.2, 3.4, 1.4, 0.2],\n       [4.7, 3.2, 1.6, 0.2],\n       [4.8, 3.1, 1.6, 0.2],\n       [5.4, 3.4, 1.5, 0.4],\n       [5.2, 4.1, 1.5, 0.1],\n       [5.5, 4.2, 1.4, 0.2],\n       [4.9, 3.1, 1.5, 0.2],\n       [5. , 3.2, 1.2, 0.2],\n       [5.5, 3.5, 1.3, 0.2],\n       [4.9, 3.6, 1.4, 0.1],\n       [4.4, 3. , 1.3, 0.2],\n       [5.1, 3.4, 1.5, 0.2],\n       [5. , 3.5, 1.3, 0.3],\n       [4.5, 2.3, 1.3, 0.3],\n       [4.4, 3.2, 1.3, 0.2],\n       [5. , 3.5, 1.6, 0.6],\n       [5.1, 3.8, 1.9, 0.4],\n       [4.8, 3. , 1.4, 0.3],\n       [5.1, 3.8, 1.6, 0.2],\n       [4.6, 3.2, 1.4, 0.2],\n       [5.3, 3.7, 1.5, 0.2],\n       [5. , 3.3, 1.4, 0.2],\n       [7. , 3.2, 4.7, 1.4],\n       [6.4, 3.2, 4.5, 1.5],\n       [6.9, 3.1, 4.9, 1.5],\n       [5.5, 2.3, 4. , 1.3],\n       [6.5, 2.8, 4.6, 1.5],\n       [5.7, 2.8, 4.5, 1.3],\n       [6.3, 3.3, 4.7, 1.6],\n       [4.9, 2.4, 3.3, 1. ],\n       [6.6, 2.9, 4.6, 1.3],\n       [5.2, 2.7, 3.9, 1.4],\n       [5. , 2. , 3.5, 1. ],\n       [5.9, 3. , 4.2, 1.5],\n       [6. , 2.2, 4. , 1. ],\n       [6.1, 2.9, 4.7, 1.4],\n       [5.6, 2.9, 3.6, 1.3],\n       [6.7, 3.1, 4.4, 1.4],\n       [5.6, 3. , 4.5, 1.5],\n       [5.8, 2.7, 4.1, 1. ],\n       [6.2, 2.2, 4.5, 1.5],\n       [5.6, 2.5, 3.9, 1.1],\n       [5.9, 3.2, 4.8, 1.8],\n       [6.1, 2.8, 4. , 1.3],\n       [6.3, 2.5, 4.9, 1.5],\n       [6.1, 2.8, 4.7, 1.2],\n       [6.4, 2.9, 4.3, 1.3],\n       [6.6, 3. , 4.4, 1.4],\n       [6.8, 2.8, 4.8, 1.4],\n       [6.7, 3. , 5. , 1.7],\n       [6. , 2.9, 4.5, 1.5],\n       [5.7, 2.6, 3.5, 1. ],\n       [5.5, 2.4, 3.8, 1.1],\n       [5.5, 2.4, 3.7, 1. ],\n       [5.8, 2.7, 3.9, 1.2],\n       [6. , 2.7, 5.1, 1.6],\n       [5.4, 3. , 4.5, 1.5],\n       [6. , 3.4, 4.5, 1.6],\n       [6.7, 3.1, 4.7, 1.5],\n       [6.3, 2.3, 4.4, 1.3],\n       [5.6, 3. , 4.1, 1.3],\n       [5.5, 2.5, 4. , 1.3],\n       [5.5, 2.6, 4.4, 1.2],\n       [6.1, 3. , 4.6, 1.4],\n       [5.8, 2.6, 4. , 1.2],\n       [5. , 2.3, 3.3, 1. ],\n       [5.6, 2.7, 4.2, 1.3],\n       [5.7, 3. , 4.2, 1.2],\n       [5.7, 2.9, 4.2, 1.3],\n       [6.2, 2.9, 4.3, 1.3],\n       [5.1, 2.5, 3. , 1.1],\n       [5.7, 2.8, 4.1, 1.3],\n       [6.3, 3.3, 6. , 2.5],\n       [5.8, 2.7, 5.1, 1.9],\n       [7.1, 3. , 5.9, 2.1],\n       [6.3, 2.9, 5.6, 1.8],\n       [6.5, 3. , 5.8, 2.2],\n       [7.6, 3. , 6.6, 2.1],\n       [4.9, 2.5, 4.5, 1.7],\n       [7.3, 2.9, 6.3, 1.8],\n       [6.7, 2.5, 5.8, 1.8],\n       [7.2, 3.6, 6.1, 2.5],\n       [6.5, 3.2, 5.1, 2. ],\n       [6.4, 2.7, 5.3, 1.9],\n       [6.8, 3. , 5.5, 2.1],\n       [5.7, 2.5, 5. , 2. ],\n       [5.8, 2.8, 5.1, 2.4],\n       [6.4, 3.2, 5.3, 2.3],\n       [6.5, 3. , 5.5, 1.8],\n       [7.7, 3.8, 6.7, 2.2],\n       [7.7, 2.6, 6.9, 2.3],\n       [6. , 2.2, 5. , 1.5],\n       [6.9, 3.2, 5.7, 2.3],\n       [5.6, 2.8, 4.9, 2. ],\n       [7.7, 2.8, 6.7, 2. ],\n       [6.3, 2.7, 4.9, 1.8],\n       [6.7, 3.3, 5.7, 2.1],\n       [7.2, 3.2, 6. , 1.8],\n       [6.2, 2.8, 4.8, 1.8],\n       [6.1, 3. , 4.9, 1.8],\n       [6.4, 2.8, 5.6, 2.1],\n       [7.2, 3. , 5.8, 1.6],\n       [7.4, 2.8, 6.1, 1.9],\n       [7.9, 3.8, 6.4, 2. ],\n       [6.4, 2.8, 5.6, 2.2],\n       [6.3, 2.8, 5.1, 1.5],\n       [6.1, 2.6, 5.6, 1.4],\n       [7.7, 3. , 6.1, 2.3],\n       [6.3, 3.4, 5.6, 2.4],\n       [6.4, 3.1, 5.5, 1.8],\n       [6. , 3. , 4.8, 1.8],\n       [6.9, 3.1, 5.4, 2.1],\n       [6.7, 3.1, 5.6, 2.4],\n       [6.9, 3.1, 5.1, 2.3],\n       [5.8, 2.7, 5.1, 1.9],\n       [6.8, 3.2, 5.9, 2.3],\n       [6.7, 3.3, 5.7, 2.5],\n       [6.7, 3. , 5.2, 2.3],\n       [6.3, 2.5, 5. , 1.9],\n       [6.5, 3. , 5.2, 2. ],\n       [6.2, 3.4, 5.4, 2.3],\n       [5.9, 3. , 5.1, 1.8]]), 'target': array([0, 0, 0, 0, 0, 0, 0, 0, 0, 0, 0, 0, 0, 0, 0, 0, 0, 0, 0, 0, 0, 0,\n       0, 0, 0, 0, 0, 0, 0, 0, 0, 0, 0, 0, 0, 0, 0, 0, 0, 0, 0, 0, 0, 0,\n       0, 0, 0, 0, 0, 0, 1, 1, 1, 1, 1, 1, 1, 1, 1, 1, 1, 1, 1, 1, 1, 1,\n       1, 1, 1, 1, 1, 1, 1, 1, 1, 1, 1, 1, 1, 1, 1, 1, 1, 1, 1, 1, 1, 1,\n       1, 1, 1, 1, 1, 1, 1, 1, 1, 1, 1, 1, 2, 2, 2, 2, 2, 2, 2, 2, 2, 2,\n       2, 2, 2, 2, 2, 2, 2, 2, 2, 2, 2, 2, 2, 2, 2, 2, 2, 2, 2, 2, 2, 2,\n       2, 2, 2, 2, 2, 2, 2, 2, 2, 2, 2, 2, 2, 2, 2, 2, 2, 2]), 'frame': None, 'target_names': array(['setosa', 'versicolor', 'virginica'], dtype='<U10'), 'DESCR': '.. _iris_dataset:\\n\\nIris plants dataset\\n--------------------\\n\\n**Data Set Characteristics:**\\n\\n    :Number of Instances: 150 (50 in each of three classes)\\n    :Number of Attributes: 4 numeric, predictive attributes and the class\\n    :Attribute Information:\\n        - sepal length in cm\\n        - sepal width in cm\\n        - petal length in cm\\n        - petal width in cm\\n        - class:\\n                - Iris-Setosa\\n                - Iris-Versicolour\\n                - Iris-Virginica\\n                \\n    :Summary Statistics:\\n\\n    ============== ==== ==== ======= ===== ====================\\n                    Min  Max   Mean    SD   Class Correlation\\n    ============== ==== ==== ======= ===== ====================\\n    sepal length:   4.3  7.9   5.84   0.83    0.7826\\n    sepal width:    2.0  4.4   3.05   0.43   -0.4194\\n    petal length:   1.0  6.9   3.76   1.76    0.9490  (high!)\\n    petal width:    0.1  2.5   1.20   0.76    0.9565  (high!)\\n    ============== ==== ==== ======= ===== ====================\\n\\n    :Missing Attribute Values: None\\n    :Class Distribution: 33.3% for each of 3 classes.\\n    :Creator: R.A. Fisher\\n    :Donor: Michael Marshall (MARSHALL%PLU@io.arc.nasa.gov)\\n    :Date: July, 1988\\n\\nThe famous Iris database, first used by Sir R.A. Fisher. The dataset is taken\\nfrom Fisher\\'s paper. Note that it\\'s the same as in R, but not as in the UCI\\nMachine Learning Repository, which has two wrong data points.\\n\\nThis is perhaps the best known database to be found in the\\npattern recognition literature.  Fisher\\'s paper is a classic in the field and\\nis referenced frequently to this day.  (See Duda & Hart, for example.)  The\\ndata set contains 3 classes of 50 instances each, where each class refers to a\\ntype of iris plant.  One class is linearly separable from the other 2; the\\nlatter are NOT linearly separable from each other.\\n\\n.. topic:: References\\n\\n   - Fisher, R.A. \"The use of multiple measurements in taxonomic problems\"\\n     Annual Eugenics, 7, Part II, 179-188 (1936); also in \"Contributions to\\n     Mathematical Statistics\" (John Wiley, NY, 1950).\\n   - Duda, R.O., & Hart, P.E. (1973) Pattern Classification and Scene Analysis.\\n     (Q327.D83) John Wiley & Sons.  ISBN 0-471-22361-1.  See page 218.\\n   - Dasarathy, B.V. (1980) \"Nosing Around the Neighborhood: A New System\\n     Structure and Classification Rule for Recognition in Partially Exposed\\n     Environments\".  IEEE Transactions on Pattern Analysis and Machine\\n     Intelligence, Vol. PAMI-2, No. 1, 67-71.\\n   - Gates, G.W. (1972) \"The Reduced Nearest Neighbor Rule\".  IEEE Transactions\\n     on Information Theory, May 1972, 431-433.\\n   - See also: 1988 MLC Proceedings, 54-64.  Cheeseman et al\"s AUTOCLASS II\\n     conceptual clustering system finds 3 classes in the data.\\n   - Many, many more ...', 'feature_names': ['sepal length (cm)', 'sepal width (cm)', 'petal length (cm)', 'petal width (cm)'], 'filename': 'C:\\\\Users\\\\PC_SKY_WYT\\\\AppData\\\\Local\\\\Programs\\\\Python\\\\Python37\\\\lib\\\\site-packages\\\\sklearn\\\\datasets\\\\data\\\\iris.csv'}\n鸢尾花的特征值:\n [[5.1 3.5 1.4 0.2]\n [4.9 3.  1.4 0.2]\n [4.7 3.2 1.3 0.2]\n [4.6 3.1 1.5 0.2]\n [5.  3.6 1.4 0.2]\n [5.4 3.9 1.7 0.4]\n [4.6 3.4 1.4 0.3]\n [5.  3.4 1.5 0.2]\n [4.4 2.9 1.4 0.2]\n [4.9 3.1 1.5 0.1]\n [5.4 3.7 1.5 0.2]\n [4.8 3.4 1.6 0.2]\n [4.8 3.  1.4 0.1]\n [4.3 3.  1.1 0.1]\n [5.8 4.  1.2 0.2]\n [5.7 4.4 1.5 0.4]\n [5.4 3.9 1.3 0.4]\n [5.1 3.5 1.4 0.3]\n [5.7 3.8 1.7 0.3]\n [5.1 3.8 1.5 0.3]\n [5.4 3.4 1.7 0.2]\n [5.1 3.7 1.5 0.4]\n [4.6 3.6 1.  0.2]\n [5.1 3.3 1.7 0.5]\n [4.8 3.4 1.9 0.2]\n [5.  3.  1.6 0.2]\n [5.  3.4 1.6 0.4]\n [5.2 3.5 1.5 0.2]\n [5.2 3.4 1.4 0.2]\n [4.7 3.2 1.6 0.2]\n [4.8 3.1 1.6 0.2]\n [5.4 3.4 1.5 0.4]\n [5.2 4.1 1.5 0.1]\n [5.5 4.2 1.4 0.2]\n [4.9 3.1 1.5 0.2]\n [5.  3.2 1.2 0.2]\n [5.5 3.5 1.3 0.2]\n [4.9 3.6 1.4 0.1]\n [4.4 3.  1.3 0.2]\n [5.1 3.4 1.5 0.2]\n [5.  3.5 1.3 0.3]\n [4.5 2.3 1.3 0.3]\n [4.4 3.2 1.3 0.2]\n [5.  3.5 1.6 0.6]\n [5.1 3.8 1.9 0.4]\n [4.8 3.  1.4 0.3]\n [5.1 3.8 1.6 0.2]\n [4.6 3.2 1.4 0.2]\n [5.3 3.7 1.5 0.2]\n [5.  3.3 1.4 0.2]\n [7.  3.2 4.7 1.4]\n [6.4 3.2 4.5 1.5]\n [6.9 3.1 4.9 1.5]\n [5.5 2.3 4.  1.3]\n [6.5 2.8 4.6 1.5]\n [5.7 2.8 4.5 1.3]\n [6.3 3.3 4.7 1.6]\n [4.9 2.4 3.3 1. ]\n [6.6 2.9 4.6 1.3]\n [5.2 2.7 3.9 1.4]\n [5.  2.  3.5 1. ]\n [5.9 3.  4.2 1.5]\n [6.  2.2 4.  1. ]\n [6.1 2.9 4.7 1.4]\n [5.6 2.9 3.6 1.3]\n [6.7 3.1 4.4 1.4]\n [5.6 3.  4.5 1.5]\n [5.8 2.7 4.1 1. ]\n [6.2 2.2 4.5 1.5]\n [5.6 2.5 3.9 1.1]\n [5.9 3.2 4.8 1.8]\n [6.1 2.8 4.  1.3]\n [6.3 2.5 4.9 1.5]\n [6.1 2.8 4.7 1.2]\n [6.4 2.9 4.3 1.3]\n [6.6 3.  4.4 1.4]\n [6.8 2.8 4.8 1.4]\n [6.7 3.  5.  1.7]\n [6.  2.9 4.5 1.5]\n [5.7 2.6 3.5 1. ]\n [5.5 2.4 3.8 1.1]\n [5.5 2.4 3.7 1. ]\n [5.8 2.7 3.9 1.2]\n [6.  2.7 5.1 1.6]\n [5.4 3.  4.5 1.5]\n [6.  3.4 4.5 1.6]\n [6.7 3.1 4.7 1.5]\n [6.3 2.3 4.4 1.3]\n [5.6 3.  4.1 1.3]\n [5.5 2.5 4.  1.3]\n [5.5 2.6 4.4 1.2]\n [6.1 3.  4.6 1.4]\n [5.8 2.6 4.  1.2]\n [5.  2.3 3.3 1. ]\n [5.6 2.7 4.2 1.3]\n [5.7 3.  4.2 1.2]\n [5.7 2.9 4.2 1.3]\n [6.2 2.9 4.3 1.3]\n [5.1 2.5 3.  1.1]\n [5.7 2.8 4.1 1.3]\n [6.3 3.3 6.  2.5]\n [5.8 2.7 5.1 1.9]\n [7.1 3.  5.9 2.1]\n [6.3 2.9 5.6 1.8]\n [6.5 3.  5.8 2.2]\n [7.6 3.  6.6 2.1]\n [4.9 2.5 4.5 1.7]\n [7.3 2.9 6.3 1.8]\n [6.7 2.5 5.8 1.8]\n [7.2 3.6 6.1 2.5]\n [6.5 3.2 5.1 2. ]\n [6.4 2.7 5.3 1.9]\n [6.8 3.  5.5 2.1]\n [5.7 2.5 5.  2. ]\n [5.8 2.8 5.1 2.4]\n [6.4 3.2 5.3 2.3]\n [6.5 3.  5.5 1.8]\n [7.7 3.8 6.7 2.2]\n [7.7 2.6 6.9 2.3]\n [6.  2.2 5.  1.5]\n [6.9 3.2 5.7 2.3]\n [5.6 2.8 4.9 2. ]\n [7.7 2.8 6.7 2. ]\n [6.3 2.7 4.9 1.8]\n [6.7 3.3 5.7 2.1]\n [7.2 3.2 6.  1.8]\n [6.2 2.8 4.8 1.8]\n [6.1 3.  4.9 1.8]\n [6.4 2.8 5.6 2.1]\n [7.2 3.  5.8 1.6]\n [7.4 2.8 6.1 1.9]\n [7.9 3.8 6.4 2. ]\n [6.4 2.8 5.6 2.2]\n [6.3 2.8 5.1 1.5]\n [6.1 2.6 5.6 1.4]\n [7.7 3.  6.1 2.3]\n [6.3 3.4 5.6 2.4]\n [6.4 3.1 5.5 1.8]\n [6.  3.  4.8 1.8]\n [6.9 3.1 5.4 2.1]\n [6.7 3.1 5.6 2.4]\n [6.9 3.1 5.1 2.3]\n [5.8 2.7 5.1 1.9]\n [6.8 3.2 5.9 2.3]\n [6.7 3.3 5.7 2.5]\n [6.7 3.  5.2 2.3]\n [6.3 2.5 5.  1.9]\n [6.5 3.  5.2 2. ]\n [6.2 3.4 5.4 2.3]\n [5.9 3.  5.1 1.8]]\n鸢尾花的目标值：\n [0 0 0 0 0 0 0 0 0 0 0 0 0 0 0 0 0 0 0 0 0 0 0 0 0 0 0 0 0 0 0 0 0 0 0 0 0\n 0 0 0 0 0 0 0 0 0 0 0 0 0 1 1 1 1 1 1 1 1 1 1 1 1 1 1 1 1 1 1 1 1 1 1 1 1\n 1 1 1 1 1 1 1 1 1 1 1 1 1 1 1 1 1 1 1 1 1 1 1 1 1 1 2 2 2 2 2 2 2 2 2 2 2\n 2 2 2 2 2 2 2 2 2 2 2 2 2 2 2 2 2 2 2 2 2 2 2 2 2 2 2 2 2 2 2 2 2 2 2 2 2\n 2 2]\n鸢尾花特征的名字：\n ['sepal length (cm)', 'sepal width (cm)', 'petal length (cm)', 'petal width (cm)']\n鸢尾花目标值的名字：\n ['setosa' 'versicolor' 'virginica']\n鸢尾花的描述：\n .. _iris_dataset:\n\nIris plants dataset\n--------------------\n\n**Data Set Characteristics:**\n\n    :Number of Instances: 150 (50 in each of three classes)\n    :Number of Attributes: 4 numeric, predictive attributes and the class\n    :Attribute Information:\n        - sepal length in cm\n        - sepal width in cm\n        - petal length in cm\n        - petal width in cm\n        - class:\n                - Iris-Setosa\n                - Iris-Versicolour\n                - Iris-Virginica\n                \n    :Summary Statistics:\n\n    ============== ==== ==== ======= ===== ====================\n                    Min  Max   Mean    SD   Class Correlation\n    ============== ==== ==== ======= ===== ====================\n    sepal length:   4.3  7.9   5.84   0.83    0.7826\n    sepal width:    2.0  4.4   3.05   0.43   -0.4194\n    petal length:   1.0  6.9   3.76   1.76    0.9490  (high!)\n    petal width:    0.1  2.5   1.20   0.76    0.9565  (high!)\n    ============== ==== ==== ======= ===== ====================\n\n    :Missing Attribute Values: None\n    :Class Distribution: 33.3% for each of 3 classes.\n    :Creator: R.A. Fisher\n    :Donor: Michael Marshall (MARSHALL%PLU@io.arc.nasa.gov)\n    :Date: July, 1988\n\nThe famous Iris database, first used by Sir R.A. Fisher. The dataset is taken\nfrom Fisher's paper. Note that it's the same as in R, but not as in the UCI\nMachine Learning Repository, which has two wrong data points.\n\nThis is perhaps the best known database to be found in the\npattern recognition literature.  Fisher's paper is a classic in the field and\nis referenced frequently to this day.  (See Duda & Hart, for example.)  The\ndata set contains 3 classes of 50 instances each, where each class refers to a\ntype of iris plant.  One class is linearly separable from the other 2; the\nlatter are NOT linearly separable from each other.\n\n.. topic:: References\n\n   - Fisher, R.A. \"The use of multiple measurements in taxonomic problems\"\n     Annual Eugenics, 7, Part II, 179-188 (1936); also in \"Contributions to\n     Mathematical Statistics\" (John Wiley, NY, 1950).\n   - Duda, R.O., & Hart, P.E. (1973) Pattern Classification and Scene Analysis.\n     (Q327.D83) John Wiley & Sons.  ISBN 0-471-22361-1.  See page 218.\n   - Dasarathy, B.V. (1980) \"Nosing Around the Neighborhood: A New System\n     Structure and Classification Rule for Recognition in Partially Exposed\n     Environments\".  IEEE Transactions on Pattern Analysis and Machine\n     Intelligence, Vol. PAMI-2, No. 1, 67-71.\n   - Gates, G.W. (1972) \"The Reduced Nearest Neighbor Rule\".  IEEE Transactions\n     on Information Theory, May 1972, 431-433.\n   - See also: 1988 MLC Proceedings, 54-64.  Cheeseman et al\"s AUTOCLASS II\n     conceptual clustering system finds 3 classes in the data.\n   - Many, many more ...\n"
     ]
    }
   ],
   "source": [
    "# 读取鸢尾花数据集\n",
    "iris = load_iris()\n",
    "print(\"鸢尾花数据集的返回值：\\n\", iris)\n",
    "# 返回值是一个继承自字典的Bench\n",
    "print(\"鸢尾花的特征值:\\n\", iris[\"data\"])\n",
    "print(\"鸢尾花的目标值：\\n\", iris.target)\n",
    "print(\"鸢尾花特征的名字：\\n\", iris.feature_names)\n",
    "print(\"鸢尾花目标值的名字：\\n\", iris.target_names)\n",
    "print(\"鸢尾花的描述：\\n\", iris.DESCR)"
   ]
  },
  {
   "source": [
    "# 数据基本处理"
   ],
   "cell_type": "markdown",
   "metadata": {}
  },
  {
   "cell_type": "code",
   "execution_count": 4,
   "metadata": {},
   "outputs": [],
   "source": [
    "# 划分训练集和测试集\n",
    "# x_train,x_test,y_train,y_test为训练集特征值、测试集特征值、训练集目标值、测试集目标值\n",
    "X_train, X_test, y_train, y_test = train_test_split(iris.data, iris.target, test_size=0.2, random_state=22)"
   ]
  },
  {
   "cell_type": "code",
   "execution_count": 5,
   "metadata": {},
   "outputs": [
    {
     "output_type": "execute_result",
     "data": {
      "text/plain": [
       "(120, 4)"
      ]
     },
     "metadata": {},
     "execution_count": 5
    }
   ],
   "source": [
    "X_train.shape\n"
   ]
  },
  {
   "cell_type": "code",
   "execution_count": 6,
   "metadata": {},
   "outputs": [
    {
     "output_type": "execute_result",
     "data": {
      "text/plain": [
       "(30, 4)"
      ]
     },
     "metadata": {},
     "execution_count": 6
    }
   ],
   "source": [
    "# 测试集占0.2\n",
    "X_test.shape"
   ]
  },
  {
   "cell_type": "code",
   "execution_count": 7,
   "metadata": {},
   "outputs": [],
   "source": [
    "transfer = StandardScaler()\n",
    "X_train = transfer.fit_transform(X_train)\n",
    "X_test = transfer.transform(X_test)\n"
   ]
  },
  {
   "cell_type": "code",
   "execution_count": 8,
   "metadata": {},
   "outputs": [
    {
     "output_type": "execute_result",
     "data": {
      "text/plain": [
       "KNeighborsClassifier()"
      ]
     },
     "metadata": {},
     "execution_count": 8
    }
   ],
   "source": [
    "estimator = KNeighborsClassifier()\n",
    "estimator.fit(X_train, y_train)\n",
    "KNeighborsClassifier()"
   ]
  },
  {
   "cell_type": "code",
   "execution_count": 9,
   "metadata": {},
   "outputs": [
    {
     "output_type": "stream",
     "name": "stdout",
     "text": [
      "预测值是:\n [0 2 1 2 1 1 1 1 1 0 2 1 2 2 0 2 1 1 1 1 0 2 0 1 2 0 2 2 2 2]\n预测值和真实值的对比是:\n [ True  True  True  True  True  True  True False  True  True  True  True\n  True  True  True  True  True  True False  True  True  True  True  True\n  True  True  True  True  True  True]\n"
     ]
    }
   ],
   "source": [
    "y_pre = estimator.predict(X_test)\n",
    "print(\"预测值是:\\n\", y_pre)\n",
    "print(\"预测值和真实值的对比是:\\n\", y_pre == y_test)"
   ]
  },
  {
   "source": [
    "# 构建模型"
   ],
   "cell_type": "markdown",
   "metadata": {}
  },
  {
   "cell_type": "code",
   "execution_count": 10,
   "metadata": {},
   "outputs": [],
   "source": [
    "# 构建人工神经网络\n",
    "model = tf.keras.Sequential()\n",
    "model.add(tf.keras.layers.Dense(10, input_shape=(4, ), activation='relu'))\n",
    "model.add(tf.keras.layers.Dense(3, activation='softmax'))"
   ]
  },
  {
   "cell_type": "code",
   "execution_count": 11,
   "metadata": {},
   "outputs": [
    {
     "output_type": "stream",
     "name": "stdout",
     "text": [
      "Model: \"sequential\"\n_________________________________________________________________\nLayer (type)                 Output Shape              Param #   \n=================================================================\ndense (Dense)                (None, 10)                50        \n_________________________________________________________________\ndense_1 (Dense)              (None, 3)                 33        \n=================================================================\nTotal params: 83\nTrainable params: 83\nNon-trainable params: 0\n_________________________________________________________________\n"
     ]
    }
   ],
   "source": [
    "# 显示模型的所有层\n",
    "model.summary()"
   ]
  },
  {
   "cell_type": "code",
   "execution_count": 16,
   "metadata": {
    "tags": [
     "outputPrepend"
    ]
   },
   "outputs": [
    {
     "output_type": "stream",
     "name": "stdout",
     "text": [
      "=============================] - 0s 15ms/step - loss: 0.0311 - accuracy: 0.9881 - val_loss: 0.0711 - val_accuracy: 0.9667\n",
      "Epoch 862/1000\n",
      "4/4 [==============================] - 0s 17ms/step - loss: 0.0301 - accuracy: 0.9913 - val_loss: 0.0721 - val_accuracy: 0.9667\n",
      "Epoch 863/1000\n",
      "4/4 [==============================] - 0s 15ms/step - loss: 0.0323 - accuracy: 0.9881 - val_loss: 0.0715 - val_accuracy: 0.9667\n",
      "Epoch 864/1000\n",
      "4/4 [==============================] - 0s 16ms/step - loss: 0.0621 - accuracy: 0.9704 - val_loss: 0.0727 - val_accuracy: 0.9667\n",
      "Epoch 865/1000\n",
      "4/4 [==============================] - 0s 16ms/step - loss: 0.0321 - accuracy: 0.9881 - val_loss: 0.0725 - val_accuracy: 0.9667\n",
      "Epoch 866/1000\n",
      "4/4 [==============================] - 0s 18ms/step - loss: 0.0351 - accuracy: 0.9829 - val_loss: 0.0736 - val_accuracy: 0.9667\n",
      "Epoch 867/1000\n",
      "4/4 [==============================] - 0s 18ms/step - loss: 0.0279 - accuracy: 0.9913 - val_loss: 0.0741 - val_accuracy: 0.9667\n",
      "Epoch 868/1000\n",
      "4/4 [==============================] - 0s 16ms/step - loss: 0.0323 - accuracy: 0.9881 - val_loss: 0.0755 - val_accuracy: 0.9667\n",
      "Epoch 869/1000\n",
      "4/4 [==============================] - 0s 18ms/step - loss: 0.0325 - accuracy: 0.9881 - val_loss: 0.0761 - val_accuracy: 0.9667\n",
      "Epoch 870/1000\n",
      "4/4 [==============================] - 0s 16ms/step - loss: 0.0430 - accuracy: 0.9798 - val_loss: 0.0754 - val_accuracy: 0.9667\n",
      "Epoch 871/1000\n",
      "4/4 [==============================] - 0s 16ms/step - loss: 0.0383 - accuracy: 0.9881 - val_loss: 0.0746 - val_accuracy: 0.9667\n",
      "Epoch 872/1000\n",
      "4/4 [==============================] - 0s 18ms/step - loss: 0.0360 - accuracy: 0.9881 - val_loss: 0.0747 - val_accuracy: 0.9667\n",
      "Epoch 873/1000\n",
      "4/4 [==============================] - 0s 23ms/step - loss: 0.0294 - accuracy: 0.9892 - val_loss: 0.0751 - val_accuracy: 0.9667\n",
      "Epoch 874/1000\n",
      "4/4 [==============================] - 0s 23ms/step - loss: 0.0379 - accuracy: 0.9819 - val_loss: 0.0749 - val_accuracy: 0.9667\n",
      "Epoch 875/1000\n",
      "4/4 [==============================] - 0s 20ms/step - loss: 0.0415 - accuracy: 0.9860 - val_loss: 0.0762 - val_accuracy: 0.9667\n",
      "Epoch 876/1000\n",
      "4/4 [==============================] - 0s 17ms/step - loss: 0.0319 - accuracy: 0.9881 - val_loss: 0.0769 - val_accuracy: 0.9667\n",
      "Epoch 877/1000\n",
      "4/4 [==============================] - 0s 17ms/step - loss: 0.0446 - accuracy: 0.9767 - val_loss: 0.0762 - val_accuracy: 0.9667\n",
      "Epoch 878/1000\n",
      "4/4 [==============================] - 0s 15ms/step - loss: 0.0518 - accuracy: 0.9704 - val_loss: 0.0756 - val_accuracy: 0.9667\n",
      "Epoch 879/1000\n",
      "4/4 [==============================] - 0s 16ms/step - loss: 0.0384 - accuracy: 0.9819 - val_loss: 0.0749 - val_accuracy: 0.9667\n",
      "Epoch 880/1000\n",
      "4/4 [==============================] - 0s 16ms/step - loss: 0.0333 - accuracy: 0.9913 - val_loss: 0.0752 - val_accuracy: 0.9667\n",
      "Epoch 881/1000\n",
      "4/4 [==============================] - 0s 19ms/step - loss: 0.0261 - accuracy: 0.9933 - val_loss: 0.0742 - val_accuracy: 0.9667\n",
      "Epoch 882/1000\n",
      "4/4 [==============================] - 0s 16ms/step - loss: 0.0462 - accuracy: 0.9767 - val_loss: 0.0736 - val_accuracy: 0.9667\n",
      "Epoch 883/1000\n",
      "4/4 [==============================] - 0s 16ms/step - loss: 0.0333 - accuracy: 0.9881 - val_loss: 0.0724 - val_accuracy: 0.9667\n",
      "Epoch 884/1000\n",
      "4/4 [==============================] - 0s 17ms/step - loss: 0.0406 - accuracy: 0.9829 - val_loss: 0.0734 - val_accuracy: 0.9667\n",
      "Epoch 885/1000\n",
      "4/4 [==============================] - 0s 16ms/step - loss: 0.0297 - accuracy: 0.9860 - val_loss: 0.0733 - val_accuracy: 0.9667\n",
      "Epoch 886/1000\n",
      "4/4 [==============================] - 0s 19ms/step - loss: 0.0256 - accuracy: 0.9933 - val_loss: 0.0737 - val_accuracy: 0.9667\n",
      "Epoch 887/1000\n",
      "4/4 [==============================] - 0s 16ms/step - loss: 0.0324 - accuracy: 0.9913 - val_loss: 0.0740 - val_accuracy: 0.9667\n",
      "Epoch 888/1000\n",
      "4/4 [==============================] - 0s 19ms/step - loss: 0.0328 - accuracy: 0.9860 - val_loss: 0.0735 - val_accuracy: 0.9667\n",
      "Epoch 889/1000\n",
      "4/4 [==============================] - 0s 17ms/step - loss: 0.0393 - accuracy: 0.9798 - val_loss: 0.0725 - val_accuracy: 0.9667\n",
      "Epoch 890/1000\n",
      "4/4 [==============================] - 0s 16ms/step - loss: 0.0432 - accuracy: 0.9767 - val_loss: 0.0723 - val_accuracy: 0.9667\n",
      "Epoch 891/1000\n",
      "4/4 [==============================] - 0s 16ms/step - loss: 0.0496 - accuracy: 0.9704 - val_loss: 0.0729 - val_accuracy: 0.9667\n",
      "Epoch 892/1000\n",
      "4/4 [==============================] - 0s 16ms/step - loss: 0.0494 - accuracy: 0.9798 - val_loss: 0.0741 - val_accuracy: 0.9667\n",
      "Epoch 893/1000\n",
      "4/4 [==============================] - 0s 53ms/step - loss: 0.0468 - accuracy: 0.9767 - val_loss: 0.0741 - val_accuracy: 0.9667\n",
      "Epoch 894/1000\n",
      "4/4 [==============================] - 0s 23ms/step - loss: 0.0415 - accuracy: 0.9829 - val_loss: 0.0738 - val_accuracy: 0.9667\n",
      "Epoch 895/1000\n",
      "4/4 [==============================] - 0s 31ms/step - loss: 0.0288 - accuracy: 0.9933 - val_loss: 0.0735 - val_accuracy: 0.9667\n",
      "Epoch 896/1000\n",
      "4/4 [==============================] - 0s 23ms/step - loss: 0.0281 - accuracy: 0.9933 - val_loss: 0.0729 - val_accuracy: 0.9667\n",
      "Epoch 897/1000\n",
      "4/4 [==============================] - 0s 35ms/step - loss: 0.0264 - accuracy: 0.9881 - val_loss: 0.0712 - val_accuracy: 0.9667\n",
      "Epoch 898/1000\n",
      "4/4 [==============================] - 0s 30ms/step - loss: 0.0325 - accuracy: 0.9881 - val_loss: 0.0716 - val_accuracy: 0.9667\n",
      "Epoch 899/1000\n",
      "4/4 [==============================] - 0s 55ms/step - loss: 0.0460 - accuracy: 0.9819 - val_loss: 0.0725 - val_accuracy: 0.9667\n",
      "Epoch 900/1000\n",
      "4/4 [==============================] - 0s 24ms/step - loss: 0.0374 - accuracy: 0.9860 - val_loss: 0.0713 - val_accuracy: 0.9667\n",
      "Epoch 901/1000\n",
      "4/4 [==============================] - 0s 26ms/step - loss: 0.0324 - accuracy: 0.9892 - val_loss: 0.0704 - val_accuracy: 0.9667\n",
      "Epoch 902/1000\n",
      "4/4 [==============================] - 0s 19ms/step - loss: 0.0366 - accuracy: 0.9829 - val_loss: 0.0697 - val_accuracy: 0.9667\n",
      "Epoch 903/1000\n",
      "4/4 [==============================] - 0s 19ms/step - loss: 0.0328 - accuracy: 0.9881 - val_loss: 0.0695 - val_accuracy: 0.9667\n",
      "Epoch 904/1000\n",
      "4/4 [==============================] - 0s 20ms/step - loss: 0.0385 - accuracy: 0.9881 - val_loss: 0.0693 - val_accuracy: 0.9667\n",
      "Epoch 905/1000\n",
      "4/4 [==============================] - 0s 28ms/step - loss: 0.0289 - accuracy: 0.9913 - val_loss: 0.0680 - val_accuracy: 0.9667\n",
      "Epoch 906/1000\n",
      "4/4 [==============================] - 0s 19ms/step - loss: 0.0433 - accuracy: 0.9829 - val_loss: 0.0688 - val_accuracy: 0.9667\n",
      "Epoch 907/1000\n",
      "4/4 [==============================] - 0s 24ms/step - loss: 0.0345 - accuracy: 0.9860 - val_loss: 0.0694 - val_accuracy: 0.9667\n",
      "Epoch 908/1000\n",
      "4/4 [==============================] - 0s 27ms/step - loss: 0.0430 - accuracy: 0.9860 - val_loss: 0.0706 - val_accuracy: 0.9667\n",
      "Epoch 909/1000\n",
      "4/4 [==============================] - 0s 20ms/step - loss: 0.0321 - accuracy: 0.9892 - val_loss: 0.0707 - val_accuracy: 0.9667\n",
      "Epoch 910/1000\n",
      "4/4 [==============================] - 0s 18ms/step - loss: 0.0287 - accuracy: 0.9881 - val_loss: 0.0713 - val_accuracy: 0.9667\n",
      "Epoch 911/1000\n",
      "4/4 [==============================] - 0s 18ms/step - loss: 0.0366 - accuracy: 0.9860 - val_loss: 0.0711 - val_accuracy: 0.9667\n",
      "Epoch 912/1000\n",
      "4/4 [==============================] - 0s 28ms/step - loss: 0.0477 - accuracy: 0.9798 - val_loss: 0.0718 - val_accuracy: 0.9667\n",
      "Epoch 913/1000\n",
      "4/4 [==============================] - 0s 31ms/step - loss: 0.0331 - accuracy: 0.9860 - val_loss: 0.0703 - val_accuracy: 0.9667\n",
      "Epoch 914/1000\n",
      "4/4 [==============================] - 0s 22ms/step - loss: 0.0333 - accuracy: 0.9860 - val_loss: 0.0698 - val_accuracy: 0.9667\n",
      "Epoch 915/1000\n",
      "4/4 [==============================] - 0s 17ms/step - loss: 0.0359 - accuracy: 0.9881 - val_loss: 0.0699 - val_accuracy: 0.9667\n",
      "Epoch 916/1000\n",
      "4/4 [==============================] - 0s 17ms/step - loss: 0.0448 - accuracy: 0.9819 - val_loss: 0.0701 - val_accuracy: 0.9667\n",
      "Epoch 917/1000\n",
      "4/4 [==============================] - 0s 18ms/step - loss: 0.0312 - accuracy: 0.9913 - val_loss: 0.0700 - val_accuracy: 0.9667\n",
      "Epoch 918/1000\n",
      "4/4 [==============================] - 0s 18ms/step - loss: 0.0391 - accuracy: 0.9819 - val_loss: 0.0692 - val_accuracy: 0.9667\n",
      "Epoch 919/1000\n",
      "4/4 [==============================] - 0s 17ms/step - loss: 0.0225 - accuracy: 0.9933 - val_loss: 0.0678 - val_accuracy: 0.9667\n",
      "Epoch 920/1000\n",
      "4/4 [==============================] - 0s 23ms/step - loss: 0.0248 - accuracy: 0.9933 - val_loss: 0.0675 - val_accuracy: 0.9667\n",
      "Epoch 921/1000\n",
      "4/4 [==============================] - 0s 17ms/step - loss: 0.0266 - accuracy: 0.9933 - val_loss: 0.0682 - val_accuracy: 0.9667\n",
      "Epoch 922/1000\n",
      "4/4 [==============================] - 0s 19ms/step - loss: 0.0389 - accuracy: 0.9860 - val_loss: 0.0687 - val_accuracy: 0.9667\n",
      "Epoch 923/1000\n",
      "4/4 [==============================] - 0s 17ms/step - loss: 0.0370 - accuracy: 0.9860 - val_loss: 0.0697 - val_accuracy: 0.9667\n",
      "Epoch 924/1000\n",
      "4/4 [==============================] - 0s 18ms/step - loss: 0.0393 - accuracy: 0.9798 - val_loss: 0.0691 - val_accuracy: 0.9667\n",
      "Epoch 925/1000\n",
      "4/4 [==============================] - 0s 20ms/step - loss: 0.0318 - accuracy: 0.9881 - val_loss: 0.0693 - val_accuracy: 0.9667\n",
      "Epoch 926/1000\n",
      "4/4 [==============================] - 0s 17ms/step - loss: 0.0506 - accuracy: 0.9819 - val_loss: 0.0700 - val_accuracy: 0.9667\n",
      "Epoch 927/1000\n",
      "4/4 [==============================] - 0s 17ms/step - loss: 0.0285 - accuracy: 0.9892 - val_loss: 0.0695 - val_accuracy: 0.9667\n",
      "Epoch 928/1000\n",
      "4/4 [==============================] - 0s 15ms/step - loss: 0.0373 - accuracy: 0.9829 - val_loss: 0.0686 - val_accuracy: 0.9667\n",
      "Epoch 929/1000\n",
      "4/4 [==============================] - 0s 17ms/step - loss: 0.0283 - accuracy: 0.9881 - val_loss: 0.0681 - val_accuracy: 0.9667\n",
      "Epoch 930/1000\n",
      "4/4 [==============================] - 0s 16ms/step - loss: 0.0293 - accuracy: 0.9881 - val_loss: 0.0692 - val_accuracy: 0.9667\n",
      "Epoch 931/1000\n",
      "4/4 [==============================] - 0s 16ms/step - loss: 0.0436 - accuracy: 0.9767 - val_loss: 0.0688 - val_accuracy: 0.9667\n",
      "Epoch 932/1000\n",
      "4/4 [==============================] - 0s 18ms/step - loss: 0.0450 - accuracy: 0.9767 - val_loss: 0.0686 - val_accuracy: 0.9667\n",
      "Epoch 933/1000\n",
      "4/4 [==============================] - 0s 21ms/step - loss: 0.0456 - accuracy: 0.9767 - val_loss: 0.0691 - val_accuracy: 0.9667\n",
      "Epoch 934/1000\n",
      "4/4 [==============================] - 0s 22ms/step - loss: 0.0419 - accuracy: 0.9767 - val_loss: 0.0698 - val_accuracy: 0.9667\n",
      "Epoch 935/1000\n",
      "4/4 [==============================] - 0s 19ms/step - loss: 0.0341 - accuracy: 0.9881 - val_loss: 0.0689 - val_accuracy: 0.9667\n",
      "Epoch 936/1000\n",
      "4/4 [==============================] - 0s 19ms/step - loss: 0.0519 - accuracy: 0.9704 - val_loss: 0.0703 - val_accuracy: 0.9667\n",
      "Epoch 937/1000\n",
      "4/4 [==============================] - 0s 19ms/step - loss: 0.0515 - accuracy: 0.9767 - val_loss: 0.0705 - val_accuracy: 0.9667\n",
      "Epoch 938/1000\n",
      "4/4 [==============================] - 0s 60ms/step - loss: 0.0544 - accuracy: 0.9704 - val_loss: 0.0707 - val_accuracy: 0.9667\n",
      "Epoch 939/1000\n",
      "4/4 [==============================] - 0s 17ms/step - loss: 0.0411 - accuracy: 0.9798 - val_loss: 0.0709 - val_accuracy: 0.9667\n",
      "Epoch 940/1000\n",
      "4/4 [==============================] - 0s 16ms/step - loss: 0.0446 - accuracy: 0.9767 - val_loss: 0.0709 - val_accuracy: 0.9667\n",
      "Epoch 941/1000\n",
      "4/4 [==============================] - 0s 15ms/step - loss: 0.0435 - accuracy: 0.9767 - val_loss: 0.0714 - val_accuracy: 0.9667\n",
      "Epoch 942/1000\n",
      "4/4 [==============================] - 0s 17ms/step - loss: 0.0367 - accuracy: 0.9881 - val_loss: 0.0729 - val_accuracy: 0.9667\n",
      "Epoch 943/1000\n",
      "4/4 [==============================] - 0s 16ms/step - loss: 0.0419 - accuracy: 0.9798 - val_loss: 0.0727 - val_accuracy: 0.9667\n",
      "Epoch 944/1000\n",
      "4/4 [==============================] - 0s 17ms/step - loss: 0.0512 - accuracy: 0.9767 - val_loss: 0.0718 - val_accuracy: 0.9667\n",
      "Epoch 945/1000\n",
      "4/4 [==============================] - 0s 17ms/step - loss: 0.0324 - accuracy: 0.9860 - val_loss: 0.0716 - val_accuracy: 0.9667\n",
      "Epoch 946/1000\n",
      "4/4 [==============================] - 0s 14ms/step - loss: 0.0277 - accuracy: 0.9892 - val_loss: 0.0710 - val_accuracy: 0.9667\n",
      "Epoch 947/1000\n",
      "4/4 [==============================] - 0s 16ms/step - loss: 0.0290 - accuracy: 0.9913 - val_loss: 0.0706 - val_accuracy: 0.9667\n",
      "Epoch 948/1000\n",
      "4/4 [==============================] - 0s 17ms/step - loss: 0.0462 - accuracy: 0.9767 - val_loss: 0.0710 - val_accuracy: 0.9667\n",
      "Epoch 949/1000\n",
      "4/4 [==============================] - 0s 18ms/step - loss: 0.0342 - accuracy: 0.9881 - val_loss: 0.0712 - val_accuracy: 0.9667\n",
      "Epoch 950/1000\n",
      "4/4 [==============================] - 0s 19ms/step - loss: 0.0535 - accuracy: 0.9767 - val_loss: 0.0726 - val_accuracy: 0.9667\n",
      "Epoch 951/1000\n",
      "4/4 [==============================] - 0s 21ms/step - loss: 0.0417 - accuracy: 0.9767 - val_loss: 0.0729 - val_accuracy: 0.9667\n",
      "Epoch 952/1000\n",
      "4/4 [==============================] - 0s 22ms/step - loss: 0.0556 - accuracy: 0.9704 - val_loss: 0.0731 - val_accuracy: 0.9667\n",
      "Epoch 953/1000\n",
      "4/4 [==============================] - 0s 18ms/step - loss: 0.0444 - accuracy: 0.9767 - val_loss: 0.0727 - val_accuracy: 0.9667\n",
      "Epoch 954/1000\n",
      "4/4 [==============================] - 0s 21ms/step - loss: 0.0381 - accuracy: 0.9860 - val_loss: 0.0722 - val_accuracy: 0.9667\n",
      "Epoch 955/1000\n",
      "4/4 [==============================] - 0s 21ms/step - loss: 0.0391 - accuracy: 0.9798 - val_loss: 0.0712 - val_accuracy: 0.9667\n",
      "Epoch 956/1000\n",
      "4/4 [==============================] - 0s 19ms/step - loss: 0.0353 - accuracy: 0.9860 - val_loss: 0.0712 - val_accuracy: 0.9667\n",
      "Epoch 957/1000\n",
      "4/4 [==============================] - 0s 21ms/step - loss: 0.0236 - accuracy: 0.9913 - val_loss: 0.0714 - val_accuracy: 0.9667\n",
      "Epoch 958/1000\n",
      "4/4 [==============================] - 0s 24ms/step - loss: 0.0362 - accuracy: 0.9829 - val_loss: 0.0712 - val_accuracy: 0.9667\n",
      "Epoch 959/1000\n",
      "4/4 [==============================] - 0s 19ms/step - loss: 0.0326 - accuracy: 0.9881 - val_loss: 0.0713 - val_accuracy: 0.9667\n",
      "Epoch 960/1000\n",
      "4/4 [==============================] - 0s 17ms/step - loss: 0.0295 - accuracy: 0.9881 - val_loss: 0.0696 - val_accuracy: 0.9667\n",
      "Epoch 961/1000\n",
      "4/4 [==============================] - 0s 15ms/step - loss: 0.0383 - accuracy: 0.9829 - val_loss: 0.0697 - val_accuracy: 0.9667\n",
      "Epoch 962/1000\n",
      "4/4 [==============================] - 0s 16ms/step - loss: 0.0374 - accuracy: 0.9860 - val_loss: 0.0697 - val_accuracy: 0.9667\n",
      "Epoch 963/1000\n",
      "4/4 [==============================] - 0s 15ms/step - loss: 0.0301 - accuracy: 0.9881 - val_loss: 0.0698 - val_accuracy: 0.9667\n",
      "Epoch 964/1000\n",
      "4/4 [==============================] - 0s 17ms/step - loss: 0.0510 - accuracy: 0.9767 - val_loss: 0.0704 - val_accuracy: 0.9667\n",
      "Epoch 965/1000\n",
      "4/4 [==============================] - 0s 17ms/step - loss: 0.0458 - accuracy: 0.9767 - val_loss: 0.0706 - val_accuracy: 0.9667\n",
      "Epoch 966/1000\n",
      "4/4 [==============================] - 0s 17ms/step - loss: 0.0334 - accuracy: 0.9913 - val_loss: 0.0705 - val_accuracy: 0.9667\n",
      "Epoch 967/1000\n",
      "4/4 [==============================] - 0s 18ms/step - loss: 0.0300 - accuracy: 0.9892 - val_loss: 0.0713 - val_accuracy: 0.9667\n",
      "Epoch 968/1000\n",
      "4/4 [==============================] - 0s 18ms/step - loss: 0.0493 - accuracy: 0.9767 - val_loss: 0.0719 - val_accuracy: 0.9667\n",
      "Epoch 969/1000\n",
      "4/4 [==============================] - 0s 16ms/step - loss: 0.0319 - accuracy: 0.9881 - val_loss: 0.0724 - val_accuracy: 0.9667\n",
      "Epoch 970/1000\n",
      "4/4 [==============================] - 0s 15ms/step - loss: 0.0248 - accuracy: 0.9913 - val_loss: 0.0713 - val_accuracy: 0.9667\n",
      "Epoch 971/1000\n",
      "4/4 [==============================] - 0s 16ms/step - loss: 0.0467 - accuracy: 0.9798 - val_loss: 0.0721 - val_accuracy: 0.9667\n",
      "Epoch 972/1000\n",
      "4/4 [==============================] - 0s 27ms/step - loss: 0.0370 - accuracy: 0.9819 - val_loss: 0.0712 - val_accuracy: 0.9667\n",
      "Epoch 973/1000\n",
      "4/4 [==============================] - 0s 21ms/step - loss: 0.0519 - accuracy: 0.9704 - val_loss: 0.0720 - val_accuracy: 0.9667\n",
      "Epoch 974/1000\n",
      "4/4 [==============================] - 0s 18ms/step - loss: 0.0302 - accuracy: 0.9892 - val_loss: 0.0722 - val_accuracy: 0.9667\n",
      "Epoch 975/1000\n",
      "4/4 [==============================] - 0s 17ms/step - loss: 0.0284 - accuracy: 0.9913 - val_loss: 0.0725 - val_accuracy: 0.9667\n",
      "Epoch 976/1000\n",
      "4/4 [==============================] - 0s 20ms/step - loss: 0.0344 - accuracy: 0.9881 - val_loss: 0.0721 - val_accuracy: 0.9667\n",
      "Epoch 977/1000\n",
      "4/4 [==============================] - 0s 17ms/step - loss: 0.0336 - accuracy: 0.9860 - val_loss: 0.0705 - val_accuracy: 0.9667\n",
      "Epoch 978/1000\n",
      "4/4 [==============================] - 0s 17ms/step - loss: 0.0359 - accuracy: 0.9881 - val_loss: 0.0689 - val_accuracy: 0.9667\n",
      "Epoch 979/1000\n",
      "4/4 [==============================] - 0s 16ms/step - loss: 0.0399 - accuracy: 0.9829 - val_loss: 0.0689 - val_accuracy: 0.9667\n",
      "Epoch 980/1000\n",
      "4/4 [==============================] - 0s 17ms/step - loss: 0.0382 - accuracy: 0.9860 - val_loss: 0.0689 - val_accuracy: 0.9667\n",
      "Epoch 981/1000\n",
      "4/4 [==============================] - 0s 16ms/step - loss: 0.0427 - accuracy: 0.9767 - val_loss: 0.0692 - val_accuracy: 0.9667\n",
      "Epoch 982/1000\n",
      "4/4 [==============================] - 0s 15ms/step - loss: 0.0290 - accuracy: 0.9913 - val_loss: 0.0698 - val_accuracy: 0.9667\n",
      "Epoch 983/1000\n",
      "4/4 [==============================] - 0s 17ms/step - loss: 0.0453 - accuracy: 0.9819 - val_loss: 0.0704 - val_accuracy: 0.9667\n",
      "Epoch 984/1000\n",
      "4/4 [==============================] - 0s 15ms/step - loss: 0.0569 - accuracy: 0.9704 - val_loss: 0.0697 - val_accuracy: 0.9667\n",
      "Epoch 985/1000\n",
      "4/4 [==============================] - 0s 17ms/step - loss: 0.0240 - accuracy: 0.9933 - val_loss: 0.0689 - val_accuracy: 0.9667\n",
      "Epoch 986/1000\n",
      "4/4 [==============================] - 0s 17ms/step - loss: 0.0462 - accuracy: 0.9767 - val_loss: 0.0682 - val_accuracy: 0.9667\n",
      "Epoch 987/1000\n",
      "4/4 [==============================] - 0s 16ms/step - loss: 0.0308 - accuracy: 0.9913 - val_loss: 0.0690 - val_accuracy: 0.9667\n",
      "Epoch 988/1000\n",
      "4/4 [==============================] - 0s 16ms/step - loss: 0.0368 - accuracy: 0.9829 - val_loss: 0.0685 - val_accuracy: 0.9667\n",
      "Epoch 989/1000\n",
      "4/4 [==============================] - 0s 16ms/step - loss: 0.0450 - accuracy: 0.9798 - val_loss: 0.0682 - val_accuracy: 0.9667\n",
      "Epoch 990/1000\n",
      "4/4 [==============================] - 0s 19ms/step - loss: 0.0501 - accuracy: 0.9767 - val_loss: 0.0696 - val_accuracy: 0.9667\n",
      "Epoch 991/1000\n",
      "4/4 [==============================] - 0s 15ms/step - loss: 0.0398 - accuracy: 0.9798 - val_loss: 0.0689 - val_accuracy: 0.9667\n",
      "Epoch 992/1000\n",
      "4/4 [==============================] - 0s 16ms/step - loss: 0.0287 - accuracy: 0.9881 - val_loss: 0.0689 - val_accuracy: 0.9667\n",
      "Epoch 993/1000\n",
      "4/4 [==============================] - 0s 16ms/step - loss: 0.0416 - accuracy: 0.9819 - val_loss: 0.0694 - val_accuracy: 0.9667\n",
      "Epoch 994/1000\n",
      "4/4 [==============================] - 0s 17ms/step - loss: 0.0278 - accuracy: 0.9881 - val_loss: 0.0704 - val_accuracy: 0.9667\n",
      "Epoch 995/1000\n",
      "4/4 [==============================] - 0s 51ms/step - loss: 0.0477 - accuracy: 0.9767 - val_loss: 0.0725 - val_accuracy: 0.9667\n",
      "Epoch 996/1000\n",
      "4/4 [==============================] - 0s 15ms/step - loss: 0.0383 - accuracy: 0.9819 - val_loss: 0.0716 - val_accuracy: 0.9667\n",
      "Epoch 997/1000\n",
      "4/4 [==============================] - 0s 16ms/step - loss: 0.0454 - accuracy: 0.9767 - val_loss: 0.0725 - val_accuracy: 0.9667\n",
      "Epoch 998/1000\n",
      "4/4 [==============================] - 0s 17ms/step - loss: 0.0286 - accuracy: 0.9881 - val_loss: 0.0731 - val_accuracy: 0.9667\n",
      "Epoch 999/1000\n",
      "4/4 [==============================] - 0s 19ms/step - loss: 0.0417 - accuracy: 0.9767 - val_loss: 0.0742 - val_accuracy: 0.9667\n",
      "Epoch 1000/1000\n",
      "4/4 [==============================] - 0s 20ms/step - loss: 0.0355 - accuracy: 0.9881 - val_loss: 0.0760 - val_accuracy: 0.9667\n"
     ]
    }
   ],
   "source": [
    "# 编译模型\n",
    "# 指定损失函数，优化器，评价指标\n",
    "# 多分类问题loss使用交叉熵，评价指标为准确性\n",
    "model.compile(loss=\"sparse_categorical_crossentropy\",\n",
    "              optimizer=\"adam\",\n",
    "              metrics=\"accuracy\")\n",
    "\n",
    "history = model.fit(X_train, y_train, epochs=1000, validation_data=(X_test, y_test))"
   ]
  },
  {
   "cell_type": "code",
   "execution_count": 17,
   "metadata": {},
   "outputs": [
    {
     "output_type": "stream",
     "name": "stderr",
     "text": [
      "C:\\Users\\PC_SKY_WYT\\AppData\\Local\\Programs\\Python\\Python37\\lib\\site-packages\\tensorflow\\python\\keras\\engine\\sequential.py:450: UserWarning: `model.predict_classes()` is deprecated and will be removed after 2021-01-01. Please use instead:* `np.argmax(model.predict(x), axis=-1)`,   if your model does multi-class classification   (e.g. if it uses a `softmax` last-layer activation).* `(model.predict(x) > 0.5).astype(\"int32\")`,   if your model does binary classification   (e.g. if it uses a `sigmoid` last-layer activation).\n  warnings.warn('`model.predict_classes()` is deprecated and '\n"
     ]
    }
   ],
   "source": [
    "# 模型预测\n",
    "y_pre_proba = model.predict(X_test)         # 返回每个类别的概率\n",
    "y_pre = model.predict_classes(X_test)       # 返回最大概率的类别"
   ]
  },
  {
   "cell_type": "code",
   "execution_count": 18,
   "metadata": {},
   "outputs": [
    {
     "output_type": "stream",
     "name": "stdout",
     "text": [
      "              precision    recall  f1-score   support\n\n           0       1.00      1.00      1.00         6\n           1       0.91      1.00      0.95        10\n           2       1.00      0.93      0.96        14\n\n    accuracy                           0.97        30\n   macro avg       0.97      0.98      0.97        30\nweighted avg       0.97      0.97      0.97        30\n\n"
     ]
    }
   ],
   "source": [
    "from sklearn.metrics import classification_report, confusion_matrix\n",
    "#print(confusion_matrix(y_test,predictions))\n",
    "print(classification_report(y_test,y_pre))"
   ]
  },
  {
   "cell_type": "code",
   "execution_count": 19,
   "metadata": {},
   "outputs": [
    {
     "output_type": "stream",
     "name": "stdout",
     "text": [
      "0.9666666666666667\n"
     ]
    }
   ],
   "source": [
    "# 模型评分\n",
    "scores = []\n",
    "for i in range(len(y_test)):\n",
    "    if y_pre[i] == y_test[i]:\n",
    "        scores.append(1)\n",
    "    else:\n",
    "        scores.append(0)\n",
    "\n",
    "accuracy = sum(scores) / len(scores)\n",
    "print(accuracy)"
   ]
  },
  {
   "cell_type": "code",
   "execution_count": 21,
   "metadata": {},
   "outputs": [
    {
     "output_type": "display_data",
     "data": {
      "text/plain": "<Figure size 576x360 with 1 Axes>",
      "image/svg+xml": "<?xml version=\"1.0\" encoding=\"utf-8\" standalone=\"no\"?>\r\n<!DOCTYPE svg PUBLIC \"-//W3C//DTD SVG 1.1//EN\"\r\n  \"http://www.w3.org/Graphics/SVG/1.1/DTD/svg11.dtd\">\r\n<!-- Created with matplotlib (https://matplotlib.org/) -->\r\n<svg height=\"320.355469pt\" version=\"1.1\" viewBox=\"0 0 497.38125 320.355469\" width=\"497.38125pt\" xmlns=\"http://www.w3.org/2000/svg\" xmlns:xlink=\"http://www.w3.org/1999/xlink\">\r\n <metadata>\r\n  <rdf:RDF xmlns:cc=\"http://creativecommons.org/ns#\" xmlns:dc=\"http://purl.org/dc/elements/1.1/\" xmlns:rdf=\"http://www.w3.org/1999/02/22-rdf-syntax-ns#\">\r\n   <cc:Work>\r\n    <dc:type rdf:resource=\"http://purl.org/dc/dcmitype/StillImage\"/>\r\n    <dc:date>2021-06-13T11:08:31.939175</dc:date>\r\n    <dc:format>image/svg+xml</dc:format>\r\n    <dc:creator>\r\n     <cc:Agent>\r\n      <dc:title>Matplotlib v3.3.4, https://matplotlib.org/</dc:title>\r\n     </cc:Agent>\r\n    </dc:creator>\r\n   </cc:Work>\r\n  </rdf:RDF>\r\n </metadata>\r\n <defs>\r\n  <style type=\"text/css\">*{stroke-linecap:butt;stroke-linejoin:round;}</style>\r\n </defs>\r\n <g id=\"figure_1\">\r\n  <g id=\"patch_1\">\r\n   <path d=\"M 0 320.355469 \r\nL 497.38125 320.355469 \r\nL 497.38125 0 \r\nL 0 0 \r\nz\r\n\" style=\"fill:none;\"/>\r\n  </g>\r\n  <g id=\"axes_1\">\r\n   <g id=\"patch_2\">\r\n    <path d=\"M 43.78125 282.799219 \r\nL 490.18125 282.799219 \r\nL 490.18125 10.999219 \r\nL 43.78125 10.999219 \r\nz\r\n\" style=\"fill:#ffffff;\"/>\r\n   </g>\r\n   <g id=\"matplotlib.axis_1\">\r\n    <g id=\"xtick_1\">\r\n     <g id=\"line2d_1\">\r\n      <path clip-path=\"url(#pfa5cf04991)\" d=\"M 64.072159 282.799219 \r\nL 64.072159 10.999219 \r\n\" style=\"fill:none;stroke:#b0b0b0;stroke-linecap:square;stroke-width:0.8;\"/>\r\n     </g>\r\n     <g id=\"line2d_2\">\r\n      <defs>\r\n       <path d=\"M 0 0 \r\nL 0 3.5 \r\n\" id=\"md3f79ca89c\" style=\"stroke:#000000;stroke-width:0.8;\"/>\r\n      </defs>\r\n      <g>\r\n       <use style=\"stroke:#000000;stroke-width:0.8;\" x=\"64.072159\" xlink:href=\"#md3f79ca89c\" y=\"282.799219\"/>\r\n      </g>\r\n     </g>\r\n     <g id=\"text_1\">\r\n      <!-- 0 -->\r\n      <g transform=\"translate(60.890909 297.397656)scale(0.1 -0.1)\">\r\n       <defs>\r\n        <path d=\"M 31.78125 66.40625 \r\nQ 24.171875 66.40625 20.328125 58.90625 \r\nQ 16.5 51.421875 16.5 36.375 \r\nQ 16.5 21.390625 20.328125 13.890625 \r\nQ 24.171875 6.390625 31.78125 6.390625 \r\nQ 39.453125 6.390625 43.28125 13.890625 \r\nQ 47.125 21.390625 47.125 36.375 \r\nQ 47.125 51.421875 43.28125 58.90625 \r\nQ 39.453125 66.40625 31.78125 66.40625 \r\nz\r\nM 31.78125 74.21875 \r\nQ 44.046875 74.21875 50.515625 64.515625 \r\nQ 56.984375 54.828125 56.984375 36.375 \r\nQ 56.984375 17.96875 50.515625 8.265625 \r\nQ 44.046875 -1.421875 31.78125 -1.421875 \r\nQ 19.53125 -1.421875 13.0625 8.265625 \r\nQ 6.59375 17.96875 6.59375 36.375 \r\nQ 6.59375 54.828125 13.0625 64.515625 \r\nQ 19.53125 74.21875 31.78125 74.21875 \r\nz\r\n\" id=\"DejaVuSans-48\"/>\r\n       </defs>\r\n       <use xlink:href=\"#DejaVuSans-48\"/>\r\n      </g>\r\n     </g>\r\n    </g>\r\n    <g id=\"xtick_2\">\r\n     <g id=\"line2d_3\">\r\n      <path clip-path=\"url(#pfa5cf04991)\" d=\"M 145.31704 282.799219 \r\nL 145.31704 10.999219 \r\n\" style=\"fill:none;stroke:#b0b0b0;stroke-linecap:square;stroke-width:0.8;\"/>\r\n     </g>\r\n     <g id=\"line2d_4\">\r\n      <g>\r\n       <use style=\"stroke:#000000;stroke-width:0.8;\" x=\"145.31704\" xlink:href=\"#md3f79ca89c\" y=\"282.799219\"/>\r\n      </g>\r\n     </g>\r\n     <g id=\"text_2\">\r\n      <!-- 200 -->\r\n      <g transform=\"translate(135.77329 297.397656)scale(0.1 -0.1)\">\r\n       <defs>\r\n        <path d=\"M 19.1875 8.296875 \r\nL 53.609375 8.296875 \r\nL 53.609375 0 \r\nL 7.328125 0 \r\nL 7.328125 8.296875 \r\nQ 12.9375 14.109375 22.625 23.890625 \r\nQ 32.328125 33.6875 34.8125 36.53125 \r\nQ 39.546875 41.84375 41.421875 45.53125 \r\nQ 43.3125 49.21875 43.3125 52.78125 \r\nQ 43.3125 58.59375 39.234375 62.25 \r\nQ 35.15625 65.921875 28.609375 65.921875 \r\nQ 23.96875 65.921875 18.8125 64.3125 \r\nQ 13.671875 62.703125 7.8125 59.421875 \r\nL 7.8125 69.390625 \r\nQ 13.765625 71.78125 18.9375 73 \r\nQ 24.125 74.21875 28.421875 74.21875 \r\nQ 39.75 74.21875 46.484375 68.546875 \r\nQ 53.21875 62.890625 53.21875 53.421875 \r\nQ 53.21875 48.921875 51.53125 44.890625 \r\nQ 49.859375 40.875 45.40625 35.40625 \r\nQ 44.1875 33.984375 37.640625 27.21875 \r\nQ 31.109375 20.453125 19.1875 8.296875 \r\nz\r\n\" id=\"DejaVuSans-50\"/>\r\n       </defs>\r\n       <use xlink:href=\"#DejaVuSans-50\"/>\r\n       <use x=\"63.623047\" xlink:href=\"#DejaVuSans-48\"/>\r\n       <use x=\"127.246094\" xlink:href=\"#DejaVuSans-48\"/>\r\n      </g>\r\n     </g>\r\n    </g>\r\n    <g id=\"xtick_3\">\r\n     <g id=\"line2d_5\">\r\n      <path clip-path=\"url(#pfa5cf04991)\" d=\"M 226.561922 282.799219 \r\nL 226.561922 10.999219 \r\n\" style=\"fill:none;stroke:#b0b0b0;stroke-linecap:square;stroke-width:0.8;\"/>\r\n     </g>\r\n     <g id=\"line2d_6\">\r\n      <g>\r\n       <use style=\"stroke:#000000;stroke-width:0.8;\" x=\"226.561922\" xlink:href=\"#md3f79ca89c\" y=\"282.799219\"/>\r\n      </g>\r\n     </g>\r\n     <g id=\"text_3\">\r\n      <!-- 400 -->\r\n      <g transform=\"translate(217.018172 297.397656)scale(0.1 -0.1)\">\r\n       <defs>\r\n        <path d=\"M 37.796875 64.3125 \r\nL 12.890625 25.390625 \r\nL 37.796875 25.390625 \r\nz\r\nM 35.203125 72.90625 \r\nL 47.609375 72.90625 \r\nL 47.609375 25.390625 \r\nL 58.015625 25.390625 \r\nL 58.015625 17.1875 \r\nL 47.609375 17.1875 \r\nL 47.609375 0 \r\nL 37.796875 0 \r\nL 37.796875 17.1875 \r\nL 4.890625 17.1875 \r\nL 4.890625 26.703125 \r\nz\r\n\" id=\"DejaVuSans-52\"/>\r\n       </defs>\r\n       <use xlink:href=\"#DejaVuSans-52\"/>\r\n       <use x=\"63.623047\" xlink:href=\"#DejaVuSans-48\"/>\r\n       <use x=\"127.246094\" xlink:href=\"#DejaVuSans-48\"/>\r\n      </g>\r\n     </g>\r\n    </g>\r\n    <g id=\"xtick_4\">\r\n     <g id=\"line2d_7\">\r\n      <path clip-path=\"url(#pfa5cf04991)\" d=\"M 307.806803 282.799219 \r\nL 307.806803 10.999219 \r\n\" style=\"fill:none;stroke:#b0b0b0;stroke-linecap:square;stroke-width:0.8;\"/>\r\n     </g>\r\n     <g id=\"line2d_8\">\r\n      <g>\r\n       <use style=\"stroke:#000000;stroke-width:0.8;\" x=\"307.806803\" xlink:href=\"#md3f79ca89c\" y=\"282.799219\"/>\r\n      </g>\r\n     </g>\r\n     <g id=\"text_4\">\r\n      <!-- 600 -->\r\n      <g transform=\"translate(298.263053 297.397656)scale(0.1 -0.1)\">\r\n       <defs>\r\n        <path d=\"M 33.015625 40.375 \r\nQ 26.375 40.375 22.484375 35.828125 \r\nQ 18.609375 31.296875 18.609375 23.390625 \r\nQ 18.609375 15.53125 22.484375 10.953125 \r\nQ 26.375 6.390625 33.015625 6.390625 \r\nQ 39.65625 6.390625 43.53125 10.953125 \r\nQ 47.40625 15.53125 47.40625 23.390625 \r\nQ 47.40625 31.296875 43.53125 35.828125 \r\nQ 39.65625 40.375 33.015625 40.375 \r\nz\r\nM 52.59375 71.296875 \r\nL 52.59375 62.3125 \r\nQ 48.875 64.0625 45.09375 64.984375 \r\nQ 41.3125 65.921875 37.59375 65.921875 \r\nQ 27.828125 65.921875 22.671875 59.328125 \r\nQ 17.53125 52.734375 16.796875 39.40625 \r\nQ 19.671875 43.65625 24.015625 45.921875 \r\nQ 28.375 48.1875 33.59375 48.1875 \r\nQ 44.578125 48.1875 50.953125 41.515625 \r\nQ 57.328125 34.859375 57.328125 23.390625 \r\nQ 57.328125 12.15625 50.6875 5.359375 \r\nQ 44.046875 -1.421875 33.015625 -1.421875 \r\nQ 20.359375 -1.421875 13.671875 8.265625 \r\nQ 6.984375 17.96875 6.984375 36.375 \r\nQ 6.984375 53.65625 15.1875 63.9375 \r\nQ 23.390625 74.21875 37.203125 74.21875 \r\nQ 40.921875 74.21875 44.703125 73.484375 \r\nQ 48.484375 72.75 52.59375 71.296875 \r\nz\r\n\" id=\"DejaVuSans-54\"/>\r\n       </defs>\r\n       <use xlink:href=\"#DejaVuSans-54\"/>\r\n       <use x=\"63.623047\" xlink:href=\"#DejaVuSans-48\"/>\r\n       <use x=\"127.246094\" xlink:href=\"#DejaVuSans-48\"/>\r\n      </g>\r\n     </g>\r\n    </g>\r\n    <g id=\"xtick_5\">\r\n     <g id=\"line2d_9\">\r\n      <path clip-path=\"url(#pfa5cf04991)\" d=\"M 389.051684 282.799219 \r\nL 389.051684 10.999219 \r\n\" style=\"fill:none;stroke:#b0b0b0;stroke-linecap:square;stroke-width:0.8;\"/>\r\n     </g>\r\n     <g id=\"line2d_10\">\r\n      <g>\r\n       <use style=\"stroke:#000000;stroke-width:0.8;\" x=\"389.051684\" xlink:href=\"#md3f79ca89c\" y=\"282.799219\"/>\r\n      </g>\r\n     </g>\r\n     <g id=\"text_5\">\r\n      <!-- 800 -->\r\n      <g transform=\"translate(379.507934 297.397656)scale(0.1 -0.1)\">\r\n       <defs>\r\n        <path d=\"M 31.78125 34.625 \r\nQ 24.75 34.625 20.71875 30.859375 \r\nQ 16.703125 27.09375 16.703125 20.515625 \r\nQ 16.703125 13.921875 20.71875 10.15625 \r\nQ 24.75 6.390625 31.78125 6.390625 \r\nQ 38.8125 6.390625 42.859375 10.171875 \r\nQ 46.921875 13.96875 46.921875 20.515625 \r\nQ 46.921875 27.09375 42.890625 30.859375 \r\nQ 38.875 34.625 31.78125 34.625 \r\nz\r\nM 21.921875 38.8125 \r\nQ 15.578125 40.375 12.03125 44.71875 \r\nQ 8.5 49.078125 8.5 55.328125 \r\nQ 8.5 64.0625 14.71875 69.140625 \r\nQ 20.953125 74.21875 31.78125 74.21875 \r\nQ 42.671875 74.21875 48.875 69.140625 \r\nQ 55.078125 64.0625 55.078125 55.328125 \r\nQ 55.078125 49.078125 51.53125 44.71875 \r\nQ 48 40.375 41.703125 38.8125 \r\nQ 48.828125 37.15625 52.796875 32.3125 \r\nQ 56.78125 27.484375 56.78125 20.515625 \r\nQ 56.78125 9.90625 50.3125 4.234375 \r\nQ 43.84375 -1.421875 31.78125 -1.421875 \r\nQ 19.734375 -1.421875 13.25 4.234375 \r\nQ 6.78125 9.90625 6.78125 20.515625 \r\nQ 6.78125 27.484375 10.78125 32.3125 \r\nQ 14.796875 37.15625 21.921875 38.8125 \r\nz\r\nM 18.3125 54.390625 \r\nQ 18.3125 48.734375 21.84375 45.5625 \r\nQ 25.390625 42.390625 31.78125 42.390625 \r\nQ 38.140625 42.390625 41.71875 45.5625 \r\nQ 45.3125 48.734375 45.3125 54.390625 \r\nQ 45.3125 60.0625 41.71875 63.234375 \r\nQ 38.140625 66.40625 31.78125 66.40625 \r\nQ 25.390625 66.40625 21.84375 63.234375 \r\nQ 18.3125 60.0625 18.3125 54.390625 \r\nz\r\n\" id=\"DejaVuSans-56\"/>\r\n       </defs>\r\n       <use xlink:href=\"#DejaVuSans-56\"/>\r\n       <use x=\"63.623047\" xlink:href=\"#DejaVuSans-48\"/>\r\n       <use x=\"127.246094\" xlink:href=\"#DejaVuSans-48\"/>\r\n      </g>\r\n     </g>\r\n    </g>\r\n    <g id=\"xtick_6\">\r\n     <g id=\"line2d_11\">\r\n      <path clip-path=\"url(#pfa5cf04991)\" d=\"M 470.296565 282.799219 \r\nL 470.296565 10.999219 \r\n\" style=\"fill:none;stroke:#b0b0b0;stroke-linecap:square;stroke-width:0.8;\"/>\r\n     </g>\r\n     <g id=\"line2d_12\">\r\n      <g>\r\n       <use style=\"stroke:#000000;stroke-width:0.8;\" x=\"470.296565\" xlink:href=\"#md3f79ca89c\" y=\"282.799219\"/>\r\n      </g>\r\n     </g>\r\n     <g id=\"text_6\">\r\n      <!-- 1000 -->\r\n      <g transform=\"translate(457.571565 297.397656)scale(0.1 -0.1)\">\r\n       <defs>\r\n        <path d=\"M 12.40625 8.296875 \r\nL 28.515625 8.296875 \r\nL 28.515625 63.921875 \r\nL 10.984375 60.40625 \r\nL 10.984375 69.390625 \r\nL 28.421875 72.90625 \r\nL 38.28125 72.90625 \r\nL 38.28125 8.296875 \r\nL 54.390625 8.296875 \r\nL 54.390625 0 \r\nL 12.40625 0 \r\nz\r\n\" id=\"DejaVuSans-49\"/>\r\n       </defs>\r\n       <use xlink:href=\"#DejaVuSans-49\"/>\r\n       <use x=\"63.623047\" xlink:href=\"#DejaVuSans-48\"/>\r\n       <use x=\"127.246094\" xlink:href=\"#DejaVuSans-48\"/>\r\n       <use x=\"190.869141\" xlink:href=\"#DejaVuSans-48\"/>\r\n      </g>\r\n     </g>\r\n    </g>\r\n    <g id=\"text_7\">\r\n     <!-- Epochs -->\r\n     <g transform=\"translate(249.065625 311.075781)scale(0.1 -0.1)\">\r\n      <defs>\r\n       <path d=\"M 9.8125 72.90625 \r\nL 55.90625 72.90625 \r\nL 55.90625 64.59375 \r\nL 19.671875 64.59375 \r\nL 19.671875 43.015625 \r\nL 54.390625 43.015625 \r\nL 54.390625 34.71875 \r\nL 19.671875 34.71875 \r\nL 19.671875 8.296875 \r\nL 56.78125 8.296875 \r\nL 56.78125 0 \r\nL 9.8125 0 \r\nz\r\n\" id=\"DejaVuSans-69\"/>\r\n       <path d=\"M 18.109375 8.203125 \r\nL 18.109375 -20.796875 \r\nL 9.078125 -20.796875 \r\nL 9.078125 54.6875 \r\nL 18.109375 54.6875 \r\nL 18.109375 46.390625 \r\nQ 20.953125 51.265625 25.265625 53.625 \r\nQ 29.59375 56 35.59375 56 \r\nQ 45.5625 56 51.78125 48.09375 \r\nQ 58.015625 40.1875 58.015625 27.296875 \r\nQ 58.015625 14.40625 51.78125 6.484375 \r\nQ 45.5625 -1.421875 35.59375 -1.421875 \r\nQ 29.59375 -1.421875 25.265625 0.953125 \r\nQ 20.953125 3.328125 18.109375 8.203125 \r\nz\r\nM 48.6875 27.296875 \r\nQ 48.6875 37.203125 44.609375 42.84375 \r\nQ 40.53125 48.484375 33.40625 48.484375 \r\nQ 26.265625 48.484375 22.1875 42.84375 \r\nQ 18.109375 37.203125 18.109375 27.296875 \r\nQ 18.109375 17.390625 22.1875 11.75 \r\nQ 26.265625 6.109375 33.40625 6.109375 \r\nQ 40.53125 6.109375 44.609375 11.75 \r\nQ 48.6875 17.390625 48.6875 27.296875 \r\nz\r\n\" id=\"DejaVuSans-112\"/>\r\n       <path d=\"M 30.609375 48.390625 \r\nQ 23.390625 48.390625 19.1875 42.75 \r\nQ 14.984375 37.109375 14.984375 27.296875 \r\nQ 14.984375 17.484375 19.15625 11.84375 \r\nQ 23.34375 6.203125 30.609375 6.203125 \r\nQ 37.796875 6.203125 41.984375 11.859375 \r\nQ 46.1875 17.53125 46.1875 27.296875 \r\nQ 46.1875 37.015625 41.984375 42.703125 \r\nQ 37.796875 48.390625 30.609375 48.390625 \r\nz\r\nM 30.609375 56 \r\nQ 42.328125 56 49.015625 48.375 \r\nQ 55.71875 40.765625 55.71875 27.296875 \r\nQ 55.71875 13.875 49.015625 6.21875 \r\nQ 42.328125 -1.421875 30.609375 -1.421875 \r\nQ 18.84375 -1.421875 12.171875 6.21875 \r\nQ 5.515625 13.875 5.515625 27.296875 \r\nQ 5.515625 40.765625 12.171875 48.375 \r\nQ 18.84375 56 30.609375 56 \r\nz\r\n\" id=\"DejaVuSans-111\"/>\r\n       <path d=\"M 48.78125 52.59375 \r\nL 48.78125 44.1875 \r\nQ 44.96875 46.296875 41.140625 47.34375 \r\nQ 37.3125 48.390625 33.40625 48.390625 \r\nQ 24.65625 48.390625 19.8125 42.84375 \r\nQ 14.984375 37.3125 14.984375 27.296875 \r\nQ 14.984375 17.28125 19.8125 11.734375 \r\nQ 24.65625 6.203125 33.40625 6.203125 \r\nQ 37.3125 6.203125 41.140625 7.25 \r\nQ 44.96875 8.296875 48.78125 10.40625 \r\nL 48.78125 2.09375 \r\nQ 45.015625 0.34375 40.984375 -0.53125 \r\nQ 36.96875 -1.421875 32.421875 -1.421875 \r\nQ 20.0625 -1.421875 12.78125 6.34375 \r\nQ 5.515625 14.109375 5.515625 27.296875 \r\nQ 5.515625 40.671875 12.859375 48.328125 \r\nQ 20.21875 56 33.015625 56 \r\nQ 37.15625 56 41.109375 55.140625 \r\nQ 45.0625 54.296875 48.78125 52.59375 \r\nz\r\n\" id=\"DejaVuSans-99\"/>\r\n       <path d=\"M 54.890625 33.015625 \r\nL 54.890625 0 \r\nL 45.90625 0 \r\nL 45.90625 32.71875 \r\nQ 45.90625 40.484375 42.875 44.328125 \r\nQ 39.84375 48.1875 33.796875 48.1875 \r\nQ 26.515625 48.1875 22.3125 43.546875 \r\nQ 18.109375 38.921875 18.109375 30.90625 \r\nL 18.109375 0 \r\nL 9.078125 0 \r\nL 9.078125 75.984375 \r\nL 18.109375 75.984375 \r\nL 18.109375 46.1875 \r\nQ 21.34375 51.125 25.703125 53.5625 \r\nQ 30.078125 56 35.796875 56 \r\nQ 45.21875 56 50.046875 50.171875 \r\nQ 54.890625 44.34375 54.890625 33.015625 \r\nz\r\n\" id=\"DejaVuSans-104\"/>\r\n       <path d=\"M 44.28125 53.078125 \r\nL 44.28125 44.578125 \r\nQ 40.484375 46.53125 36.375 47.5 \r\nQ 32.28125 48.484375 27.875 48.484375 \r\nQ 21.1875 48.484375 17.84375 46.4375 \r\nQ 14.5 44.390625 14.5 40.28125 \r\nQ 14.5 37.15625 16.890625 35.375 \r\nQ 19.28125 33.59375 26.515625 31.984375 \r\nL 29.59375 31.296875 \r\nQ 39.15625 29.25 43.1875 25.515625 \r\nQ 47.21875 21.78125 47.21875 15.09375 \r\nQ 47.21875 7.46875 41.1875 3.015625 \r\nQ 35.15625 -1.421875 24.609375 -1.421875 \r\nQ 20.21875 -1.421875 15.453125 -0.5625 \r\nQ 10.6875 0.296875 5.421875 2 \r\nL 5.421875 11.28125 \r\nQ 10.40625 8.6875 15.234375 7.390625 \r\nQ 20.0625 6.109375 24.8125 6.109375 \r\nQ 31.15625 6.109375 34.5625 8.28125 \r\nQ 37.984375 10.453125 37.984375 14.40625 \r\nQ 37.984375 18.0625 35.515625 20.015625 \r\nQ 33.0625 21.96875 24.703125 23.78125 \r\nL 21.578125 24.515625 \r\nQ 13.234375 26.265625 9.515625 29.90625 \r\nQ 5.8125 33.546875 5.8125 39.890625 \r\nQ 5.8125 47.609375 11.28125 51.796875 \r\nQ 16.75 56 26.8125 56 \r\nQ 31.78125 56 36.171875 55.265625 \r\nQ 40.578125 54.546875 44.28125 53.078125 \r\nz\r\n\" id=\"DejaVuSans-115\"/>\r\n      </defs>\r\n      <use xlink:href=\"#DejaVuSans-69\"/>\r\n      <use x=\"63.183594\" xlink:href=\"#DejaVuSans-112\"/>\r\n      <use x=\"126.660156\" xlink:href=\"#DejaVuSans-111\"/>\r\n      <use x=\"187.841797\" xlink:href=\"#DejaVuSans-99\"/>\r\n      <use x=\"242.822266\" xlink:href=\"#DejaVuSans-104\"/>\r\n      <use x=\"306.201172\" xlink:href=\"#DejaVuSans-115\"/>\r\n     </g>\r\n    </g>\r\n   </g>\r\n   <g id=\"matplotlib.axis_2\">\r\n    <g id=\"ytick_1\">\r\n     <g id=\"line2d_13\">\r\n      <path clip-path=\"url(#pfa5cf04991)\" d=\"M 43.78125 282.799219 \r\nL 490.18125 282.799219 \r\n\" style=\"fill:none;stroke:#b0b0b0;stroke-linecap:square;stroke-width:0.8;\"/>\r\n     </g>\r\n     <g id=\"line2d_14\">\r\n      <defs>\r\n       <path d=\"M 0 0 \r\nL -3.5 0 \r\n\" id=\"m39741da26d\" style=\"stroke:#000000;stroke-width:0.8;\"/>\r\n      </defs>\r\n      <g>\r\n       <use style=\"stroke:#000000;stroke-width:0.8;\" x=\"43.78125\" xlink:href=\"#m39741da26d\" y=\"282.799219\"/>\r\n      </g>\r\n     </g>\r\n     <g id=\"text_8\">\r\n      <!-- 0.0 -->\r\n      <g transform=\"translate(20.878125 286.598437)scale(0.1 -0.1)\">\r\n       <defs>\r\n        <path d=\"M 10.6875 12.40625 \r\nL 21 12.40625 \r\nL 21 0 \r\nL 10.6875 0 \r\nz\r\n\" id=\"DejaVuSans-46\"/>\r\n       </defs>\r\n       <use xlink:href=\"#DejaVuSans-48\"/>\r\n       <use x=\"63.623047\" xlink:href=\"#DejaVuSans-46\"/>\r\n       <use x=\"95.410156\" xlink:href=\"#DejaVuSans-48\"/>\r\n      </g>\r\n     </g>\r\n    </g>\r\n    <g id=\"ytick_2\">\r\n     <g id=\"line2d_15\">\r\n      <path clip-path=\"url(#pfa5cf04991)\" d=\"M 43.78125 228.439219 \r\nL 490.18125 228.439219 \r\n\" style=\"fill:none;stroke:#b0b0b0;stroke-linecap:square;stroke-width:0.8;\"/>\r\n     </g>\r\n     <g id=\"line2d_16\">\r\n      <g>\r\n       <use style=\"stroke:#000000;stroke-width:0.8;\" x=\"43.78125\" xlink:href=\"#m39741da26d\" y=\"228.439219\"/>\r\n      </g>\r\n     </g>\r\n     <g id=\"text_9\">\r\n      <!-- 0.2 -->\r\n      <g transform=\"translate(20.878125 232.238437)scale(0.1 -0.1)\">\r\n       <use xlink:href=\"#DejaVuSans-48\"/>\r\n       <use x=\"63.623047\" xlink:href=\"#DejaVuSans-46\"/>\r\n       <use x=\"95.410156\" xlink:href=\"#DejaVuSans-50\"/>\r\n      </g>\r\n     </g>\r\n    </g>\r\n    <g id=\"ytick_3\">\r\n     <g id=\"line2d_17\">\r\n      <path clip-path=\"url(#pfa5cf04991)\" d=\"M 43.78125 174.079219 \r\nL 490.18125 174.079219 \r\n\" style=\"fill:none;stroke:#b0b0b0;stroke-linecap:square;stroke-width:0.8;\"/>\r\n     </g>\r\n     <g id=\"line2d_18\">\r\n      <g>\r\n       <use style=\"stroke:#000000;stroke-width:0.8;\" x=\"43.78125\" xlink:href=\"#m39741da26d\" y=\"174.079219\"/>\r\n      </g>\r\n     </g>\r\n     <g id=\"text_10\">\r\n      <!-- 0.4 -->\r\n      <g transform=\"translate(20.878125 177.878437)scale(0.1 -0.1)\">\r\n       <use xlink:href=\"#DejaVuSans-48\"/>\r\n       <use x=\"63.623047\" xlink:href=\"#DejaVuSans-46\"/>\r\n       <use x=\"95.410156\" xlink:href=\"#DejaVuSans-52\"/>\r\n      </g>\r\n     </g>\r\n    </g>\r\n    <g id=\"ytick_4\">\r\n     <g id=\"line2d_19\">\r\n      <path clip-path=\"url(#pfa5cf04991)\" d=\"M 43.78125 119.719219 \r\nL 490.18125 119.719219 \r\n\" style=\"fill:none;stroke:#b0b0b0;stroke-linecap:square;stroke-width:0.8;\"/>\r\n     </g>\r\n     <g id=\"line2d_20\">\r\n      <g>\r\n       <use style=\"stroke:#000000;stroke-width:0.8;\" x=\"43.78125\" xlink:href=\"#m39741da26d\" y=\"119.719219\"/>\r\n      </g>\r\n     </g>\r\n     <g id=\"text_11\">\r\n      <!-- 0.6 -->\r\n      <g transform=\"translate(20.878125 123.518437)scale(0.1 -0.1)\">\r\n       <use xlink:href=\"#DejaVuSans-48\"/>\r\n       <use x=\"63.623047\" xlink:href=\"#DejaVuSans-46\"/>\r\n       <use x=\"95.410156\" xlink:href=\"#DejaVuSans-54\"/>\r\n      </g>\r\n     </g>\r\n    </g>\r\n    <g id=\"ytick_5\">\r\n     <g id=\"line2d_21\">\r\n      <path clip-path=\"url(#pfa5cf04991)\" d=\"M 43.78125 65.359219 \r\nL 490.18125 65.359219 \r\n\" style=\"fill:none;stroke:#b0b0b0;stroke-linecap:square;stroke-width:0.8;\"/>\r\n     </g>\r\n     <g id=\"line2d_22\">\r\n      <g>\r\n       <use style=\"stroke:#000000;stroke-width:0.8;\" x=\"43.78125\" xlink:href=\"#m39741da26d\" y=\"65.359219\"/>\r\n      </g>\r\n     </g>\r\n     <g id=\"text_12\">\r\n      <!-- 0.8 -->\r\n      <g transform=\"translate(20.878125 69.158437)scale(0.1 -0.1)\">\r\n       <use xlink:href=\"#DejaVuSans-48\"/>\r\n       <use x=\"63.623047\" xlink:href=\"#DejaVuSans-46\"/>\r\n       <use x=\"95.410156\" xlink:href=\"#DejaVuSans-56\"/>\r\n      </g>\r\n     </g>\r\n    </g>\r\n    <g id=\"ytick_6\">\r\n     <g id=\"line2d_23\">\r\n      <path clip-path=\"url(#pfa5cf04991)\" d=\"M 43.78125 10.999219 \r\nL 490.18125 10.999219 \r\n\" style=\"fill:none;stroke:#b0b0b0;stroke-linecap:square;stroke-width:0.8;\"/>\r\n     </g>\r\n     <g id=\"line2d_24\">\r\n      <g>\r\n       <use style=\"stroke:#000000;stroke-width:0.8;\" x=\"43.78125\" xlink:href=\"#m39741da26d\" y=\"10.999219\"/>\r\n      </g>\r\n     </g>\r\n     <g id=\"text_13\">\r\n      <!-- 1.0 -->\r\n      <g transform=\"translate(20.878125 14.798438)scale(0.1 -0.1)\">\r\n       <use xlink:href=\"#DejaVuSans-49\"/>\r\n       <use x=\"63.623047\" xlink:href=\"#DejaVuSans-46\"/>\r\n       <use x=\"95.410156\" xlink:href=\"#DejaVuSans-48\"/>\r\n      </g>\r\n     </g>\r\n    </g>\r\n    <g id=\"text_14\">\r\n     <!-- Loss/acc -->\r\n     <g transform=\"translate(14.798438 168.113281)rotate(-90)scale(0.1 -0.1)\">\r\n      <defs>\r\n       <path d=\"M 9.8125 72.90625 \r\nL 19.671875 72.90625 \r\nL 19.671875 8.296875 \r\nL 55.171875 8.296875 \r\nL 55.171875 0 \r\nL 9.8125 0 \r\nz\r\n\" id=\"DejaVuSans-76\"/>\r\n       <path d=\"M 25.390625 72.90625 \r\nL 33.6875 72.90625 \r\nL 8.296875 -9.28125 \r\nL 0 -9.28125 \r\nz\r\n\" id=\"DejaVuSans-47\"/>\r\n       <path d=\"M 34.28125 27.484375 \r\nQ 23.390625 27.484375 19.1875 25 \r\nQ 14.984375 22.515625 14.984375 16.5 \r\nQ 14.984375 11.71875 18.140625 8.90625 \r\nQ 21.296875 6.109375 26.703125 6.109375 \r\nQ 34.1875 6.109375 38.703125 11.40625 \r\nQ 43.21875 16.703125 43.21875 25.484375 \r\nL 43.21875 27.484375 \r\nz\r\nM 52.203125 31.203125 \r\nL 52.203125 0 \r\nL 43.21875 0 \r\nL 43.21875 8.296875 \r\nQ 40.140625 3.328125 35.546875 0.953125 \r\nQ 30.953125 -1.421875 24.3125 -1.421875 \r\nQ 15.921875 -1.421875 10.953125 3.296875 \r\nQ 6 8.015625 6 15.921875 \r\nQ 6 25.140625 12.171875 29.828125 \r\nQ 18.359375 34.515625 30.609375 34.515625 \r\nL 43.21875 34.515625 \r\nL 43.21875 35.40625 \r\nQ 43.21875 41.609375 39.140625 45 \r\nQ 35.0625 48.390625 27.6875 48.390625 \r\nQ 23 48.390625 18.546875 47.265625 \r\nQ 14.109375 46.140625 10.015625 43.890625 \r\nL 10.015625 52.203125 \r\nQ 14.9375 54.109375 19.578125 55.046875 \r\nQ 24.21875 56 28.609375 56 \r\nQ 40.484375 56 46.34375 49.84375 \r\nQ 52.203125 43.703125 52.203125 31.203125 \r\nz\r\n\" id=\"DejaVuSans-97\"/>\r\n      </defs>\r\n      <use xlink:href=\"#DejaVuSans-76\"/>\r\n      <use x=\"53.962891\" xlink:href=\"#DejaVuSans-111\"/>\r\n      <use x=\"115.144531\" xlink:href=\"#DejaVuSans-115\"/>\r\n      <use x=\"167.244141\" xlink:href=\"#DejaVuSans-115\"/>\r\n      <use x=\"219.34375\" xlink:href=\"#DejaVuSans-47\"/>\r\n      <use x=\"253.035156\" xlink:href=\"#DejaVuSans-97\"/>\r\n      <use x=\"314.314453\" xlink:href=\"#DejaVuSans-99\"/>\r\n      <use x=\"369.294922\" xlink:href=\"#DejaVuSans-99\"/>\r\n     </g>\r\n    </g>\r\n   </g>\r\n   <g id=\"line2d_25\">\r\n    <path clip-path=\"url(#pfa5cf04991)\" d=\"M 64.072159 14.608683 \r\nL 66.509506 36.96446 \r\nL 68.946852 58.337803 \r\nL 75.040218 108.212242 \r\nL 77.07134 122.784614 \r\nL 79.508687 138.016802 \r\nL 81.539809 148.633584 \r\nL 83.570931 157.630588 \r\nL 85.602053 165.376116 \r\nL 87.633175 172.00409 \r\nL 90.070521 178.822363 \r\nL 92.507868 184.70964 \r\nL 96.163887 192.301514 \r\nL 98.195009 195.965858 \r\nL 100.226131 199.45339 \r\nL 105.913273 208.030346 \r\nL 108.350619 211.39617 \r\nL 113.225312 217.635801 \r\nL 114.85021 219.510346 \r\nL 117.287556 222.286422 \r\nL 125.412044 231.053123 \r\nL 130.286737 235.840043 \r\nL 132.317859 237.645662 \r\nL 138.005001 242.102022 \r\nL 141.661021 244.601843 \r\nL 142.067245 244.788101 \r\nL 142.879694 245.348178 \r\nL 150.597958 249.762252 \r\nL 154.660202 251.685131 \r\nL 158.316221 253.228247 \r\nL 160.347343 254.03243 \r\nL 162.78469 254.941979 \r\nL 163.597139 255.229366 \r\nL 167.659383 256.586917 \r\nL 170.502954 257.418432 \r\nL 179.43989 259.617534 \r\nL 181.877237 260.147815 \r\nL 185.533257 260.848972 \r\nL 199.344886 263.096378 \r\nL 201.376008 263.352365 \r\nL 210.71917 264.502037 \r\nL 211.531619 264.545006 \r\nL 212.750292 264.727406 \r\nL 216.812536 265.13191 \r\nL 218.843658 265.342069 \r\nL 219.656107 265.366305 \r\nL 220.468555 265.486809 \r\nL 222.093453 265.64763 \r\nL 239.967327 267.032418 \r\nL 243.217122 267.235394 \r\nL 250.529162 267.690807 \r\nL 263.934567 268.409924 \r\nL 265.559465 268.484216 \r\nL 272.465279 268.793772 \r\nL 273.277728 268.838137 \r\nL 298.057417 269.764257 \r\nL 299.27609 269.791028 \r\nL 302.119661 269.87583 \r\nL 304.557008 269.954569 \r\nL 306.181905 269.998431 \r\nL 310.650374 270.136743 \r\nL 313.493945 270.160707 \r\nL 314.712618 270.229318 \r\nL 324.462003 270.47004 \r\nL 325.274452 270.498433 \r\nL 328.930472 270.559691 \r\nL 329.742921 270.608438 \r\nL 340.71098 270.844219 \r\nL 365.084444 271.283684 \r\nL 366.709342 271.302322 \r\nL 368.740464 271.326247 \r\nL 369.959137 271.339285 \r\nL 371.990259 271.385935 \r\nL 372.802708 271.408203 \r\nL 378.083625 271.48136 \r\nL 382.552094 271.544728 \r\nL 383.364542 271.527979 \r\nL 386.208113 271.5945 \r\nL 395.14505 271.686389 \r\nL 396.769948 271.747403 \r\nL 412.206475 271.921287 \r\nL 443.07953 272.21988 \r\nL 443.891979 272.240999 \r\nL 453.23514 272.317457 \r\nL 454.453813 272.340569 \r\nL 460.953404 272.352863 \r\nL 462.172077 272.401604 \r\nL 469.890341 272.423036 \r\nL 469.890341 272.423036 \r\n\" style=\"fill:none;stroke:#1f77b4;stroke-linecap:square;stroke-width:1.5;\"/>\r\n   </g>\r\n   <g id=\"line2d_26\">\r\n    <path clip-path=\"url(#pfa5cf04991)\" d=\"M 64.072159 146.899219 \r\nL 64.478383 140.104225 \r\nL 64.884608 124.249224 \r\nL 65.290832 117.454214 \r\nL 66.103281 101.599213 \r\nL 66.509506 97.069218 \r\nL 66.91573 88.009226 \r\nL 67.321954 83.479214 \r\nL 67.728179 83.479214 \r\nL 68.134403 76.684221 \r\nL 68.540628 74.419223 \r\nL 68.946852 74.419223 \r\nL 69.353076 67.624213 \r\nL 69.759301 65.359216 \r\nL 70.165525 65.359216 \r\nL 71.790423 56.299224 \r\nL 72.602872 56.299224 \r\nL 73.009096 54.034226 \r\nL 78.290013 54.034226 \r\nL 78.696238 51.769212 \r\nL 79.508687 51.769212 \r\nL 80.321135 47.239217 \r\nL 82.352257 47.239217 \r\nL 82.758482 44.974219 \r\nL 84.383379 44.974219 \r\nL 84.789604 42.709221 \r\nL 87.633175 42.709221 \r\nL 88.039399 40.444223 \r\nL 88.851848 40.444223 \r\nL 89.258072 38.179225 \r\nL 94.132765 38.179225 \r\nL 94.53899 35.914211 \r\nL 98.601234 35.914211 \r\nL 99.007458 33.649213 \r\nL 103.882151 33.649213 \r\nL 104.288375 31.384216 \r\nL 105.913273 31.384216 \r\nL 106.319497 29.119218 \r\nL 108.756844 29.119218 \r\nL 109.163068 26.85422 \r\nL 110.381741 26.85422 \r\nL 111.19419 22.324224 \r\nL 122.974698 22.324224 \r\nL 123.380922 20.059226 \r\nL 127.443166 20.059226 \r\nL 127.849391 22.324224 \r\nL 128.66184 22.324224 \r\nL 129.068064 20.059226 \r\nL 129.474288 22.324224 \r\nL 129.880513 17.794212 \r\nL 130.286737 20.059226 \r\nL 131.911635 20.059226 \r\nL 132.317859 22.324224 \r\nL 147.348162 22.324224 \r\nL 147.754387 20.059226 \r\nL 148.160611 20.059226 \r\nL 148.566836 17.794212 \r\nL 148.97306 20.059226 \r\nL 149.379284 17.794212 \r\nL 151.410406 17.794212 \r\nL 151.816631 20.059226 \r\nL 157.097548 20.059226 \r\nL 157.503773 17.794212 \r\nL 160.753568 17.794212 \r\nL 161.159792 20.059226 \r\nL 161.972241 20.059226 \r\nL 162.378465 17.794212 \r\nL 268.403035 17.794212 \r\nL 268.80926 15.529214 \r\nL 270.434157 15.529214 \r\nL 270.840382 17.794212 \r\nL 273.683953 17.794212 \r\nL 274.090177 15.529214 \r\nL 469.890341 15.529214 \r\nL 469.890341 15.529214 \r\n\" style=\"fill:none;stroke:#ff7f0e;stroke-linecap:square;stroke-width:1.5;\"/>\r\n   </g>\r\n   <g id=\"line2d_27\">\r\n    <path clip-path=\"url(#pfa5cf04991)\" d=\"M 64.072159 33.975022 \r\nL 66.91573 54.174507 \r\nL 70.57175 79.377755 \r\nL 73.009096 95.137935 \r\nL 75.852667 112.088708 \r\nL 77.477564 120.555662 \r\nL 79.508687 130.086458 \r\nL 81.133584 136.769975 \r\nL 82.758482 142.752868 \r\nL 84.383379 147.951387 \r\nL 86.414501 153.84704 \r\nL 88.851848 159.919903 \r\nL 91.695419 166.014223 \r\nL 96.163887 174.379753 \r\nL 97.788785 177.009677 \r\nL 98.601234 178.267381 \r\nL 100.226131 180.902578 \r\nL 101.851029 183.440879 \r\nL 102.663478 184.785864 \r\nL 105.100824 188.234935 \r\nL 106.319497 190.031721 \r\nL 106.725722 190.468812 \r\nL 107.131946 191.096105 \r\nL 107.944395 192.083253 \r\nL 110.381741 195.09017 \r\nL 112.819088 198.698047 \r\nL 114.037761 200.189793 \r\nL 115.256434 201.602699 \r\nL 118.50623 205.558143 \r\nL 119.724903 206.954605 \r\nL 120.943576 208.558694 \r\nL 125.412044 213.618626 \r\nL 126.224493 214.394227 \r\nL 128.66184 217.047766 \r\nL 129.474288 217.62263 \r\nL 130.286737 218.645921 \r\nL 131.099186 219.35943 \r\nL 131.505411 219.719632 \r\nL 133.130308 221.768588 \r\nL 133.942757 222.608347 \r\nL 134.348981 222.714574 \r\nL 135.16143 223.566139 \r\nL 135.567655 224.115326 \r\nL 140.442347 228.256686 \r\nL 140.848572 228.343035 \r\nL 141.254796 228.779263 \r\nL 141.661021 229.038926 \r\nL 142.067245 229.123492 \r\nL 143.285918 230.162073 \r\nL 143.692143 230.709161 \r\nL 144.504592 231.307982 \r\nL 144.910816 231.463385 \r\nL 146.941938 232.788229 \r\nL 148.160611 233.476789 \r\nL 148.97306 234.220454 \r\nL 149.785509 234.447043 \r\nL 150.191733 234.604359 \r\nL 151.004182 235.395447 \r\nL 152.62908 236.50527 \r\nL 153.441528 236.937755 \r\nL 154.660202 237.874268 \r\nL 155.47265 238.249695 \r\nL 156.285099 238.683671 \r\nL 157.097548 238.90374 \r\nL 158.722446 239.722183 \r\nL 159.12867 240.076452 \r\nL 159.941119 240.317792 \r\nL 160.347343 240.509169 \r\nL 161.159792 241.370467 \r\nL 162.78469 241.916154 \r\nL 163.190914 241.823717 \r\nL 163.597139 241.979854 \r\nL 164.409587 242.535431 \r\nL 164.815812 242.812039 \r\nL 165.222036 242.783482 \r\nL 166.034485 243.509716 \r\nL 167.659383 244.044135 \r\nL 168.471831 244.398397 \r\nL 168.878056 244.409729 \r\nL 170.096729 244.870327 \r\nL 171.315402 245.608934 \r\nL 171.721627 245.585066 \r\nL 172.534076 245.980857 \r\nL 172.9403 246.043983 \r\nL 173.752749 245.856607 \r\nL 174.565198 246.310838 \r\nL 174.971422 246.641483 \r\nL 175.377646 246.785376 \r\nL 175.783871 247.092668 \r\nL 176.190095 247.130553 \r\nL 177.002544 247.366429 \r\nL 177.408768 247.055877 \r\nL 177.814993 246.990313 \r\nL 178.221217 247.062884 \r\nL 178.627442 247.321627 \r\nL 179.033666 247.191941 \r\nL 179.43989 247.327576 \r\nL 179.846115 247.600438 \r\nL 180.252339 247.576506 \r\nL 180.658564 247.702283 \r\nL 181.064788 247.99949 \r\nL 181.471012 248.077329 \r\nL 183.502135 248.948487 \r\nL 183.908359 248.999723 \r\nL 184.314583 249.245202 \r\nL 184.720808 249.324771 \r\nL 185.127032 249.216738 \r\nL 185.939481 249.772121 \r\nL 186.75193 249.749446 \r\nL 187.564379 249.858152 \r\nL 189.189276 249.852781 \r\nL 189.595501 250.08225 \r\nL 190.407949 249.955316 \r\nL 191.220398 250.331734 \r\nL 192.032847 250.596706 \r\nL 192.439071 250.422977 \r\nL 193.25152 250.926097 \r\nL 193.657745 251.085158 \r\nL 194.063969 251.107343 \r\nL 194.470193 251.312256 \r\nL 194.876418 251.300698 \r\nL 196.095091 251.73512 \r\nL 196.501316 251.861638 \r\nL 196.90754 251.787134 \r\nL 197.313764 251.932096 \r\nL 197.719989 251.69263 \r\nL 198.126213 251.702512 \r\nL 198.938662 252.138564 \r\nL 199.344886 252.183745 \r\nL 199.751111 252.387862 \r\nL 200.157335 252.345824 \r\nL 200.56356 251.964892 \r\nL 200.969784 252.136444 \r\nL 201.376008 252.048852 \r\nL 201.782233 252.376708 \r\nL 202.594682 252.410859 \r\nL 203.000906 252.401928 \r\nL 203.40713 252.680489 \r\nL 204.219579 252.944817 \r\nL 204.625804 253.089329 \r\nL 205.032028 253.038387 \r\nL 205.844477 253.497709 \r\nL 206.250701 253.36291 \r\nL 206.656926 253.425181 \r\nL 207.06315 253.652736 \r\nL 207.469374 253.737402 \r\nL 207.875599 253.557262 \r\nL 208.281823 253.608567 \r\nL 208.688048 253.544551 \r\nL 209.094272 253.641738 \r\nL 209.500497 253.378604 \r\nL 210.71917 253.536209 \r\nL 211.125394 253.9142 \r\nL 211.531619 254.128479 \r\nL 211.937843 253.992287 \r\nL 212.344067 253.645194 \r\nL 213.156516 253.523684 \r\nL 213.562741 253.815179 \r\nL 213.968965 253.754769 \r\nL 214.781414 254.023301 \r\nL 215.187638 254.311126 \r\nL 215.593863 254.362184 \r\nL 216.000087 254.613977 \r\nL 216.812536 254.715082 \r\nL 217.21876 254.545932 \r\nL 217.624985 254.513525 \r\nL 218.031209 254.299397 \r\nL 218.437433 254.56029 \r\nL 218.843658 254.611984 \r\nL 219.249882 255.002411 \r\nL 219.656107 254.698489 \r\nL 220.468555 254.891739 \r\nL 220.87478 255.228411 \r\nL 221.687229 255.342756 \r\nL 222.905902 255.122058 \r\nL 223.312126 255.374193 \r\nL 224.124575 255.364195 \r\nL 224.5308 255.408905 \r\nL 224.937024 255.628558 \r\nL 226.968146 255.997197 \r\nL 227.780595 255.625859 \r\nL 228.593044 255.982536 \r\nL 228.999268 256.084642 \r\nL 229.811717 255.922833 \r\nL 230.217941 256.021769 \r\nL 231.03039 255.949315 \r\nL 231.842839 255.858385 \r\nL 232.249063 256.081142 \r\nL 233.061512 256.026403 \r\nL 233.467736 256.164978 \r\nL 233.873961 256.090071 \r\nL 234.280185 256.241186 \r\nL 234.68641 255.947101 \r\nL 235.092634 256.109935 \r\nL 235.498859 256.025726 \r\nL 235.905083 256.084368 \r\nL 236.311307 255.972022 \r\nL 236.717532 256.202561 \r\nL 237.123756 256.258733 \r\nL 237.529981 256.457011 \r\nL 237.936205 256.404983 \r\nL 238.748654 257.130047 \r\nL 239.561103 257.265497 \r\nL 241.592225 256.989065 \r\nL 241.998449 256.936167 \r\nL 242.404673 256.718812 \r\nL 242.810898 256.893158 \r\nL 243.217122 256.716052 \r\nL 243.623347 256.92478 \r\nL 244.435795 257.034164 \r\nL 244.84202 256.979499 \r\nL 245.248244 257.061621 \r\nL 246.060693 257.411422 \r\nL 246.466917 257.312033 \r\nL 246.873142 257.494816 \r\nL 247.279366 257.360167 \r\nL 247.685591 257.541631 \r\nL 248.091815 257.448209 \r\nL 248.904264 257.982912 \r\nL 249.310488 257.821935 \r\nL 249.716713 257.85735 \r\nL 250.122937 257.567042 \r\nL 252.154059 258.142404 \r\nL 253.372732 258.505979 \r\nL 253.778957 258.18733 \r\nL 254.591406 257.925702 \r\nL 254.99763 258.121668 \r\nL 255.403854 258.046224 \r\nL 256.216303 258.580736 \r\nL 257.028752 258.677925 \r\nL 257.841201 258.849076 \r\nL 258.247425 258.679069 \r\nL 259.059874 258.662515 \r\nL 261.090996 258.615187 \r\nL 261.497221 258.424039 \r\nL 262.715894 258.772662 \r\nL 263.122118 258.638675 \r\nL 263.934567 258.719004 \r\nL 264.340791 259.038391 \r\nL 264.747016 259.065866 \r\nL 265.15324 259.206918 \r\nL 266.778138 258.986971 \r\nL 267.184362 259.400374 \r\nL 267.590587 259.254474 \r\nL 267.996811 259.276053 \r\nL 268.403035 258.864244 \r\nL 268.80926 258.930071 \r\nL 269.215484 258.76571 \r\nL 270.027933 259.012045 \r\nL 270.434157 259.248533 \r\nL 270.840382 259.624345 \r\nL 272.059055 259.952705 \r\nL 272.465279 259.795421 \r\nL 272.871504 260.037892 \r\nL 274.496402 259.284218 \r\nL 275.30885 259.238031 \r\nL 275.715075 259.572029 \r\nL 276.933748 259.725149 \r\nL 277.339972 259.279585 \r\nL 277.746197 259.251593 \r\nL 278.152421 259.003188 \r\nL 278.558646 258.957968 \r\nL 278.96487 259.045874 \r\nL 279.371094 258.932902 \r\nL 280.995992 259.212758 \r\nL 281.402216 258.998038 \r\nL 282.214665 258.982645 \r\nL 282.62089 259.266527 \r\nL 283.027114 259.392104 \r\nL 283.433338 259.839524 \r\nL 283.839563 259.657281 \r\nL 284.245787 259.764287 \r\nL 284.652012 259.736896 \r\nL 285.058236 259.836033 \r\nL 285.46446 260.118038 \r\nL 287.089358 260.181174 \r\nL 287.901807 259.646151 \r\nL 288.308031 259.803045 \r\nL 288.714256 259.782705 \r\nL 289.526705 260.278944 \r\nL 291.151602 260.727958 \r\nL 291.557827 260.785002 \r\nL 291.964051 260.689194 \r\nL 292.7765 260.89224 \r\nL 293.588949 260.435403 \r\nL 293.995173 260.615705 \r\nL 294.401397 260.452743 \r\nL 295.620071 260.502204 \r\nL 296.026295 260.726356 \r\nL 297.651193 260.763024 \r\nL 298.057417 260.840912 \r\nL 298.463641 261.097665 \r\nL 298.869866 261.080599 \r\nL 299.27609 261.176814 \r\nL 299.682315 260.959545 \r\nL 300.088539 261.191674 \r\nL 300.494764 261.055746 \r\nL 300.900988 260.58609 \r\nL 301.307212 260.297477 \r\nL 302.119661 260.476408 \r\nL 303.744559 261.416287 \r\nL 304.150783 261.458858 \r\nL 304.557008 261.337605 \r\nL 304.963232 260.974293 \r\nL 305.369456 261.008833 \r\nL 305.775681 260.601744 \r\nL 306.58813 260.926206 \r\nL 306.994354 260.902489 \r\nL 307.806803 261.312891 \r\nL 309.025476 261.143913 \r\nL 309.4317 260.785266 \r\nL 311.462822 259.789722 \r\nL 311.869047 259.933826 \r\nL 312.275271 260.38427 \r\nL 312.681496 260.363324 \r\nL 313.08772 260.75667 \r\nL 313.493945 260.295995 \r\nL 314.306393 260.437904 \r\nL 314.712618 260.392925 \r\nL 315.525067 260.79631 \r\nL 316.74374 260.624145 \r\nL 317.962413 261.46293 \r\nL 318.774862 261.55255 \r\nL 319.181086 261.173088 \r\nL 319.993535 261.028798 \r\nL 320.399759 261.023381 \r\nL 320.805984 261.137218 \r\nL 321.212208 261.448595 \r\nL 321.618433 261.492415 \r\nL 322.024657 261.773776 \r\nL 322.837106 261.326127 \r\nL 323.649555 261.319898 \r\nL 324.868228 261.99174 \r\nL 325.680677 261.384017 \r\nL 326.89935 260.825771 \r\nL 327.711799 261.075794 \r\nL 328.524248 260.84621 \r\nL 328.930472 260.745424 \r\nL 329.336696 261.319863 \r\nL 329.742921 261.292209 \r\nL 330.149145 261.480605 \r\nL 330.55537 261.377333 \r\nL 332.180267 261.508419 \r\nL 332.992716 261.833416 \r\nL 333.39894 261.834239 \r\nL 333.805165 262.339825 \r\nL 334.211389 262.168518 \r\nL 334.617614 261.783638 \r\nL 335.430062 262.037964 \r\nL 335.836287 261.848643 \r\nL 336.242511 261.954821 \r\nL 336.648736 261.713565 \r\nL 337.05496 262.003907 \r\nL 337.461184 261.94436 \r\nL 337.867409 262.302424 \r\nL 340.304755 262.064896 \r\nL 340.71098 262.357263 \r\nL 341.117204 262.419189 \r\nL 341.523429 262.639859 \r\nL 341.929653 262.33007 \r\nL 343.554551 262.253993 \r\nL 343.960775 262.571843 \r\nL 345.585673 262.856829 \r\nL 345.991897 262.562001 \r\nL 346.398121 262.57322 \r\nL 346.804346 262.264527 \r\nL 347.21057 262.247668 \r\nL 347.616795 262.46074 \r\nL 348.023019 261.930589 \r\nL 348.429243 261.782804 \r\nL 349.241692 261.708773 \r\nL 349.647917 262.187666 \r\nL 351.272814 262.017284 \r\nL 351.679039 262.168014 \r\nL 352.085263 262.561106 \r\nL 352.897712 262.226516 \r\nL 353.303936 262.339288 \r\nL 353.710161 262.001586 \r\nL 354.928834 262.173445 \r\nL 355.335058 261.976955 \r\nL 355.741283 262.053154 \r\nL 356.147507 262.467824 \r\nL 356.959956 262.584303 \r\nL 357.36618 262.07364 \r\nL 358.178629 262.137393 \r\nL 358.991078 262.471521 \r\nL 359.803527 262.691332 \r\nL 360.209751 262.441518 \r\nL 360.615976 262.447891 \r\nL 361.0222 262.296333 \r\nL 361.428424 262.325704 \r\nL 362.647098 262.027367 \r\nL 363.053322 262.239979 \r\nL 363.865771 262.169138 \r\nL 364.271995 262.50679 \r\nL 365.084444 262.683343 \r\nL 365.490669 262.42411 \r\nL 365.896893 262.593121 \r\nL 366.303117 262.30321 \r\nL 366.709342 262.415042 \r\nL 367.928015 262.155376 \r\nL 368.334239 262.336097 \r\nL 368.740464 262.386521 \r\nL 369.146688 261.984484 \r\nL 369.959137 262.424463 \r\nL 370.365361 262.423175 \r\nL 370.771586 262.205715 \r\nL 371.17781 261.825077 \r\nL 371.584035 261.761324 \r\nL 371.990259 261.863669 \r\nL 372.396483 262.492748 \r\nL 373.208932 262.622765 \r\nL 373.615157 262.871537 \r\nL 374.021381 263.283936 \r\nL 374.83383 263.447146 \r\nL 375.240054 263.284392 \r\nL 375.646279 262.846884 \r\nL 376.052503 262.66453 \r\nL 376.864952 262.625388 \r\nL 377.677401 262.7645 \r\nL 378.083625 262.397007 \r\nL 378.48985 262.436058 \r\nL 379.708523 262.113706 \r\nL 380.114747 262.671264 \r\nL 380.520972 262.788858 \r\nL 380.927196 262.667752 \r\nL 381.33342 262.972371 \r\nL 382.145869 262.64377 \r\nL 382.958318 263.294213 \r\nL 383.364542 262.934274 \r\nL 383.770767 263.024409 \r\nL 384.176991 262.947647 \r\nL 384.98944 263.179402 \r\nL 385.801889 263.556312 \r\nL 386.614338 263.305944 \r\nL 387.833011 263.334465 \r\nL 388.239235 263.576777 \r\nL 388.64546 263.528694 \r\nL 389.051684 263.672036 \r\nL 390.270357 263.010858 \r\nL 391.082806 262.712845 \r\nL 391.489031 262.370387 \r\nL 391.895255 262.34478 \r\nL 392.301479 262.964028 \r\nL 392.707704 262.662147 \r\nL 393.113928 262.585452 \r\nL 393.520153 262.65301 \r\nL 393.926377 263.010357 \r\nL 394.738826 263.04401 \r\nL 395.14505 263.406133 \r\nL 396.769948 262.962963 \r\nL 397.582397 262.342763 \r\nL 398.80107 262.724242 \r\nL 399.207294 262.448006 \r\nL 400.425967 262.192671 \r\nL 401.238416 262.728278 \r\nL 401.644641 262.899161 \r\nL 402.863314 263.079937 \r\nL 403.269538 263.216827 \r\nL 403.675763 262.80603 \r\nL 404.894436 262.633741 \r\nL 405.30066 262.178125 \r\nL 405.706885 262.024066 \r\nL 406.113109 262.167121 \r\nL 406.519334 262.717203 \r\nL 406.925558 262.903428 \r\nL 407.331782 262.753587 \r\nL 407.738007 263.131207 \r\nL 408.144231 263.000781 \r\nL 408.95668 263.38488 \r\nL 409.362904 263.348578 \r\nL 409.769129 263.573887 \r\nL 410.581578 263.625423 \r\nL 410.987802 263.85041 \r\nL 411.800251 263.813023 \r\nL 412.206475 263.813086 \r\nL 413.425148 263.470809 \r\nL 413.831373 263.198478 \r\nL 414.237597 263.356818 \r\nL 414.643822 263.051084 \r\nL 415.050046 263.092638 \r\nL 415.45627 262.787523 \r\nL 415.862495 262.645353 \r\nL 416.268719 262.265187 \r\nL 416.674944 262.127873 \r\nL 417.487393 262.532099 \r\nL 418.706066 262.435005 \r\nL 419.518515 261.890388 \r\nL 420.737188 262.438567 \r\nL 421.143412 262.371977 \r\nL 422.362085 263.134356 \r\nL 422.76831 262.840628 \r\nL 423.174534 262.870231 \r\nL 423.986983 262.695575 \r\nL 424.393207 262.825665 \r\nL 424.799432 263.093217 \r\nL 425.205656 263.139733 \r\nL 425.611881 262.971687 \r\nL 426.018105 262.66481 \r\nL 426.830554 262.733587 \r\nL 427.643003 262.998039 \r\nL 428.049227 263.441575 \r\nL 428.455451 263.339332 \r\nL 428.861676 263.103695 \r\nL 429.674125 263.668883 \r\nL 430.080349 263.84701 \r\nL 430.892798 263.950116 \r\nL 431.299022 264.3096 \r\nL 432.92392 263.594417 \r\nL 433.330144 263.422376 \r\nL 433.736369 263.484335 \r\nL 434.142593 263.296751 \r\nL 434.548818 263.686876 \r\nL 434.955042 263.824202 \r\nL 436.173715 263.778018 \r\nL 436.57994 264.001351 \r\nL 436.986164 264.359405 \r\nL 437.392388 264.461867 \r\nL 438.611062 263.866562 \r\nL 439.017286 264.006263 \r\nL 439.42351 263.953425 \r\nL 439.829735 263.765862 \r\nL 441.048408 264.296597 \r\nL 441.454632 263.981199 \r\nL 442.267081 264.141014 \r\nL 443.07953 263.814321 \r\nL 443.485755 264.078554 \r\nL 443.891979 263.701961 \r\nL 445.923101 263.397974 \r\nL 446.329325 262.987174 \r\nL 446.73555 263.047651 \r\nL 447.141774 263.294547 \r\nL 447.954223 263.507617 \r\nL 448.360447 263.599075 \r\nL 449.172896 263.448452 \r\nL 449.579121 263.064986 \r\nL 450.391569 262.925258 \r\nL 451.204018 263.176202 \r\nL 451.610243 263.460502 \r\nL 453.23514 263.432671 \r\nL 453.641365 263.88774 \r\nL 454.860038 263.827211 \r\nL 455.266262 263.663968 \r\nL 456.078711 263.644894 \r\nL 456.89116 263.270255 \r\nL 457.297384 263.107611 \r\nL 457.703609 263.421365 \r\nL 458.109833 263.205934 \r\nL 458.516058 263.443726 \r\nL 458.922282 263.223868 \r\nL 459.734731 263.102609 \r\nL 460.140955 263.214729 \r\nL 460.953404 264.067439 \r\nL 462.172077 263.98349 \r\nL 462.984526 263.659805 \r\nL 464.203199 264.262505 \r\nL 464.609424 264.031435 \r\nL 465.421872 264.275494 \r\nL 465.828097 263.887671 \r\nL 466.234321 264.085466 \r\nL 467.04677 263.945929 \r\nL 467.452994 263.654999 \r\nL 467.859219 263.103673 \r\nL 468.265443 263.337011 \r\nL 469.484117 262.635894 \r\nL 469.890341 262.154699 \r\nL 469.890341 262.154699 \r\n\" style=\"fill:none;stroke:#2ca02c;stroke-linecap:square;stroke-width:1.5;\"/>\r\n   </g>\r\n   <g id=\"line2d_28\">\r\n    <path clip-path=\"url(#pfa5cf04991)\" d=\"M 64.072159 119.719212 \r\nL 64.478383 119.719212 \r\nL 64.884608 110.659221 \r\nL 65.697057 110.659221 \r\nL 66.509506 92.539222 \r\nL 67.321954 92.539222 \r\nL 68.134403 56.299224 \r\nL 68.946852 56.299224 \r\nL 69.353076 47.239217 \r\nL 83.977155 47.239217 \r\nL 84.383379 56.299224 \r\nL 96.163887 56.299224 \r\nL 96.570112 47.239217 \r\nL 104.6946 47.239217 \r\nL 105.100824 38.179225 \r\nL 111.600415 38.179225 \r\nL 112.006639 29.119218 \r\nL 124.193371 29.119218 \r\nL 124.599596 20.059226 \r\nL 469.890341 20.059226 \r\nL 469.890341 20.059226 \r\n\" style=\"fill:none;stroke:#d62728;stroke-linecap:square;stroke-width:1.5;\"/>\r\n   </g>\r\n   <g id=\"patch_3\">\r\n    <path d=\"M 43.78125 282.799219 \r\nL 43.78125 10.999219 \r\n\" style=\"fill:none;stroke:#000000;stroke-linecap:square;stroke-linejoin:miter;stroke-width:0.8;\"/>\r\n   </g>\r\n   <g id=\"patch_4\">\r\n    <path d=\"M 490.18125 282.799219 \r\nL 490.18125 10.999219 \r\n\" style=\"fill:none;stroke:#000000;stroke-linecap:square;stroke-linejoin:miter;stroke-width:0.8;\"/>\r\n   </g>\r\n   <g id=\"patch_5\">\r\n    <path d=\"M 43.78125 282.799219 \r\nL 490.18125 282.799219 \r\n\" style=\"fill:none;stroke:#000000;stroke-linecap:square;stroke-linejoin:miter;stroke-width:0.8;\"/>\r\n   </g>\r\n   <g id=\"patch_6\">\r\n    <path d=\"M 43.78125 10.999219 \r\nL 490.18125 10.999219 \r\n\" style=\"fill:none;stroke:#000000;stroke-linecap:square;stroke-linejoin:miter;stroke-width:0.8;\"/>\r\n   </g>\r\n   <g id=\"legend_1\">\r\n    <g id=\"patch_7\">\r\n     <path d=\"M 386.2375 178.033594 \r\nL 483.18125 178.033594 \r\nQ 485.18125 178.033594 485.18125 176.033594 \r\nL 485.18125 117.764844 \r\nQ 485.18125 115.764844 483.18125 115.764844 \r\nL 386.2375 115.764844 \r\nQ 384.2375 115.764844 384.2375 117.764844 \r\nL 384.2375 176.033594 \r\nQ 384.2375 178.033594 386.2375 178.033594 \r\nz\r\n\" style=\"fill:#ffffff;opacity:0.8;stroke:#cccccc;stroke-linejoin:miter;\"/>\r\n    </g>\r\n    <g id=\"line2d_29\">\r\n     <path d=\"M 388.2375 123.863281 \r\nL 408.2375 123.863281 \r\n\" style=\"fill:none;stroke:#1f77b4;stroke-linecap:square;stroke-width:1.5;\"/>\r\n    </g>\r\n    <g id=\"line2d_30\"/>\r\n    <g id=\"text_15\">\r\n     <!-- loss -->\r\n     <g transform=\"translate(416.2375 127.363281)scale(0.1 -0.1)\">\r\n      <defs>\r\n       <path d=\"M 9.421875 75.984375 \r\nL 18.40625 75.984375 \r\nL 18.40625 0 \r\nL 9.421875 0 \r\nz\r\n\" id=\"DejaVuSans-108\"/>\r\n      </defs>\r\n      <use xlink:href=\"#DejaVuSans-108\"/>\r\n      <use x=\"27.783203\" xlink:href=\"#DejaVuSans-111\"/>\r\n      <use x=\"88.964844\" xlink:href=\"#DejaVuSans-115\"/>\r\n      <use x=\"141.064453\" xlink:href=\"#DejaVuSans-115\"/>\r\n     </g>\r\n    </g>\r\n    <g id=\"line2d_31\">\r\n     <path d=\"M 388.2375 138.541406 \r\nL 408.2375 138.541406 \r\n\" style=\"fill:none;stroke:#ff7f0e;stroke-linecap:square;stroke-width:1.5;\"/>\r\n    </g>\r\n    <g id=\"line2d_32\"/>\r\n    <g id=\"text_16\">\r\n     <!-- accuracy -->\r\n     <g transform=\"translate(416.2375 142.041406)scale(0.1 -0.1)\">\r\n      <defs>\r\n       <path d=\"M 8.5 21.578125 \r\nL 8.5 54.6875 \r\nL 17.484375 54.6875 \r\nL 17.484375 21.921875 \r\nQ 17.484375 14.15625 20.5 10.265625 \r\nQ 23.53125 6.390625 29.59375 6.390625 \r\nQ 36.859375 6.390625 41.078125 11.03125 \r\nQ 45.3125 15.671875 45.3125 23.6875 \r\nL 45.3125 54.6875 \r\nL 54.296875 54.6875 \r\nL 54.296875 0 \r\nL 45.3125 0 \r\nL 45.3125 8.40625 \r\nQ 42.046875 3.421875 37.71875 1 \r\nQ 33.40625 -1.421875 27.6875 -1.421875 \r\nQ 18.265625 -1.421875 13.375 4.4375 \r\nQ 8.5 10.296875 8.5 21.578125 \r\nz\r\nM 31.109375 56 \r\nz\r\n\" id=\"DejaVuSans-117\"/>\r\n       <path d=\"M 41.109375 46.296875 \r\nQ 39.59375 47.171875 37.8125 47.578125 \r\nQ 36.03125 48 33.890625 48 \r\nQ 26.265625 48 22.1875 43.046875 \r\nQ 18.109375 38.09375 18.109375 28.8125 \r\nL 18.109375 0 \r\nL 9.078125 0 \r\nL 9.078125 54.6875 \r\nL 18.109375 54.6875 \r\nL 18.109375 46.1875 \r\nQ 20.953125 51.171875 25.484375 53.578125 \r\nQ 30.03125 56 36.53125 56 \r\nQ 37.453125 56 38.578125 55.875 \r\nQ 39.703125 55.765625 41.0625 55.515625 \r\nz\r\n\" id=\"DejaVuSans-114\"/>\r\n       <path d=\"M 32.171875 -5.078125 \r\nQ 28.375 -14.84375 24.75 -17.8125 \r\nQ 21.140625 -20.796875 15.09375 -20.796875 \r\nL 7.90625 -20.796875 \r\nL 7.90625 -13.28125 \r\nL 13.1875 -13.28125 \r\nQ 16.890625 -13.28125 18.9375 -11.515625 \r\nQ 21 -9.765625 23.484375 -3.21875 \r\nL 25.09375 0.875 \r\nL 2.984375 54.6875 \r\nL 12.5 54.6875 \r\nL 29.59375 11.921875 \r\nL 46.6875 54.6875 \r\nL 56.203125 54.6875 \r\nz\r\n\" id=\"DejaVuSans-121\"/>\r\n      </defs>\r\n      <use xlink:href=\"#DejaVuSans-97\"/>\r\n      <use x=\"61.279297\" xlink:href=\"#DejaVuSans-99\"/>\r\n      <use x=\"116.259766\" xlink:href=\"#DejaVuSans-99\"/>\r\n      <use x=\"171.240234\" xlink:href=\"#DejaVuSans-117\"/>\r\n      <use x=\"234.619141\" xlink:href=\"#DejaVuSans-114\"/>\r\n      <use x=\"275.732422\" xlink:href=\"#DejaVuSans-97\"/>\r\n      <use x=\"337.011719\" xlink:href=\"#DejaVuSans-99\"/>\r\n      <use x=\"391.992188\" xlink:href=\"#DejaVuSans-121\"/>\r\n     </g>\r\n    </g>\r\n    <g id=\"line2d_33\">\r\n     <path d=\"M 388.2375 153.219531 \r\nL 408.2375 153.219531 \r\n\" style=\"fill:none;stroke:#2ca02c;stroke-linecap:square;stroke-width:1.5;\"/>\r\n    </g>\r\n    <g id=\"line2d_34\"/>\r\n    <g id=\"text_17\">\r\n     <!-- val_loss -->\r\n     <g transform=\"translate(416.2375 156.719531)scale(0.1 -0.1)\">\r\n      <defs>\r\n       <path d=\"M 2.984375 54.6875 \r\nL 12.5 54.6875 \r\nL 29.59375 8.796875 \r\nL 46.6875 54.6875 \r\nL 56.203125 54.6875 \r\nL 35.6875 0 \r\nL 23.484375 0 \r\nz\r\n\" id=\"DejaVuSans-118\"/>\r\n       <path d=\"M 50.984375 -16.609375 \r\nL 50.984375 -23.578125 \r\nL -0.984375 -23.578125 \r\nL -0.984375 -16.609375 \r\nz\r\n\" id=\"DejaVuSans-95\"/>\r\n      </defs>\r\n      <use xlink:href=\"#DejaVuSans-118\"/>\r\n      <use x=\"59.179688\" xlink:href=\"#DejaVuSans-97\"/>\r\n      <use x=\"120.458984\" xlink:href=\"#DejaVuSans-108\"/>\r\n      <use x=\"148.242188\" xlink:href=\"#DejaVuSans-95\"/>\r\n      <use x=\"198.242188\" xlink:href=\"#DejaVuSans-108\"/>\r\n      <use x=\"226.025391\" xlink:href=\"#DejaVuSans-111\"/>\r\n      <use x=\"287.207031\" xlink:href=\"#DejaVuSans-115\"/>\r\n      <use x=\"339.306641\" xlink:href=\"#DejaVuSans-115\"/>\r\n     </g>\r\n    </g>\r\n    <g id=\"line2d_35\">\r\n     <path d=\"M 388.2375 168.175781 \r\nL 408.2375 168.175781 \r\n\" style=\"fill:none;stroke:#d62728;stroke-linecap:square;stroke-width:1.5;\"/>\r\n    </g>\r\n    <g id=\"line2d_36\"/>\r\n    <g id=\"text_18\">\r\n     <!-- val_accuracy -->\r\n     <g transform=\"translate(416.2375 171.675781)scale(0.1 -0.1)\">\r\n      <use xlink:href=\"#DejaVuSans-118\"/>\r\n      <use x=\"59.179688\" xlink:href=\"#DejaVuSans-97\"/>\r\n      <use x=\"120.458984\" xlink:href=\"#DejaVuSans-108\"/>\r\n      <use x=\"148.242188\" xlink:href=\"#DejaVuSans-95\"/>\r\n      <use x=\"198.242188\" xlink:href=\"#DejaVuSans-97\"/>\r\n      <use x=\"259.521484\" xlink:href=\"#DejaVuSans-99\"/>\r\n      <use x=\"314.501953\" xlink:href=\"#DejaVuSans-99\"/>\r\n      <use x=\"369.482422\" xlink:href=\"#DejaVuSans-117\"/>\r\n      <use x=\"432.861328\" xlink:href=\"#DejaVuSans-114\"/>\r\n      <use x=\"473.974609\" xlink:href=\"#DejaVuSans-97\"/>\r\n      <use x=\"535.253906\" xlink:href=\"#DejaVuSans-99\"/>\r\n      <use x=\"590.234375\" xlink:href=\"#DejaVuSans-121\"/>\r\n     </g>\r\n    </g>\r\n   </g>\r\n  </g>\r\n </g>\r\n <defs>\r\n  <clipPath id=\"pfa5cf04991\">\r\n   <rect height=\"271.8\" width=\"446.4\" x=\"43.78125\" y=\"10.999219\"/>\r\n  </clipPath>\r\n </defs>\r\n</svg>\r\n",
      "image/png": "[encoded data removed]"
     },
     "metadata": {
      "needs_background": "light"
     }
    }
   ],
   "source": [
    "# 绘制训练曲线\n",
    "pd.DataFrame(history.history).plot(figsize=(8, 5))\n",
    "plt.grid(True)\n",
    "plt.xlabel('Epochs')\n",
    "plt.ylabel('Loss/acc')\n",
    "plt.gca().set_ylim(0, 1)\n",
    "plt.show()"
   ]
  },
  {
   "cell_type": "code",
   "execution_count": null,
   "metadata": {},
   "outputs": [],
   "source": []
  }
 ]
}